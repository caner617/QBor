{
 "cells": [
  {
   "cell_type": "markdown",
   "metadata": {},
   "source": [
    "<table  align=\"left\" width=\"100%\"> <tr>\n",
    "        <td  style=\"background-color:#ffffff;\"><a href=\"https://qsoftware.lu.lv/index.php/qworld/\" target=\"_blank\"><img src=\"..\\images\\qworld.jpg\" width=\"35%\" align=\"left\"></a></td>\n",
    "        <td  align=\"right\" style=\"background-color:#ffffff;vertical-align:bottom;horizontal-align:right\">\n",
    "            prepared by Caner ERCAN (<a href=\"http://qworld.lu.lv/index.php/qturkey/\" target=\"_blank\">QTurkey</a>)\n",
    "        </td>        \n",
    "</tr></table>"
   ]
  },
  {
   "cell_type": "markdown",
   "metadata": {},
   "source": [
    "<table width=\"100%\"><tr><td style=\"color:#bbbbbb;background-color:#ffffff;font-size:11px;font-style:italic;text-align:right;\">This cell contains some macros. If there is a problem with displaying mathematical formulas, please run this cell to load these macros. </td></tr></table>\n",
    "$ \\newcommand{\\bra}[1]{\\langle #1|} $\n",
    "$ \\newcommand{\\ket}[1]{|#1\\rangle} $\n",
    "$ \\newcommand{\\braket}[2]{\\langle #1|#2\\rangle} $\n",
    "$ \\newcommand{\\dot}[2]{ #1 \\cdot #2} $\n",
    "$ \\newcommand{\\biginner}[2]{\\left\\langle #1,#2\\right\\rangle} $\n",
    "$ \\newcommand{\\mymatrix}[2]{\\left( \\begin{array}{#1} #2\\end{array} \\right)} $\n",
    "$ \\newcommand{\\myvector}[1]{\\mymatrix{c}{#1}} $\n",
    "$ \\newcommand{\\myrvector}[1]{\\mymatrix{r}{#1}} $\n",
    "$ \\newcommand{\\mypar}[1]{\\left( #1 \\right)} $\n",
    "$ \\newcommand{\\mybigpar}[1]{ \\Big( #1 \\Big)} $\n",
    "$ \\newcommand{\\sqrttwo}{\\frac{1}{\\sqrt{2}}} $\n",
    "$ \\newcommand{\\dsqrttwo}{\\dfrac{1}{\\sqrt{2}}} $\n",
    "$ \\newcommand{\\onehalf}{\\frac{1}{2}} $\n",
    "$ \\newcommand{\\donehalf}{\\dfrac{1}{2}} $\n",
    "$ \\newcommand{\\hadamard}{ \\mymatrix{rr}{ \\sqrttwo & \\sqrttwo \\\\ \\sqrttwo & -\\sqrttwo }} $\n",
    "$ \\newcommand{\\vzero}{\\myvector{1\\\\0}} $\n",
    "$ \\newcommand{\\vone}{\\myvector{0\\\\1}} $\n",
    "$ \\newcommand{\\stateplus}{\\myvector{ \\sqrttwo \\\\  \\sqrttwo } } $\n",
    "$ \\newcommand{\\stateminus}{ \\myrvector{ \\sqrttwo \\\\ -\\sqrttwo } } $\n",
    "$ \\newcommand{\\myarray}[2]{ \\begin{array}{#1}#2\\end{array}} $\n",
    "$ \\newcommand{\\X}{ \\mymatrix{cc}{0 & 1 \\\\ 1 & 0}  } $\n",
    "$ \\newcommand{\\Z}{ \\mymatrix{rr}{1 & 0 \\\\ 0 & -1}  } $\n",
    "$ \\newcommand{\\Htwo}{ \\mymatrix{rrrr}{ \\frac{1}{2} & \\frac{1}{2} & \\frac{1}{2} & \\frac{1}{2} \\\\ \\frac{1}{2} & -\\frac{1}{2} & \\frac{1}{2} & -\\frac{1}{2} \\\\ \\frac{1}{2} & \\frac{1}{2} & -\\frac{1}{2} & -\\frac{1}{2} \\\\ \\frac{1}{2} & -\\frac{1}{2} & -\\frac{1}{2} & \\frac{1}{2} } } $\n",
    "$ \\newcommand{\\CNOT}{ \\mymatrix{cccc}{1 & 0 & 0 & 0 \\\\ 0 & 1 & 0 & 0 \\\\ 0 & 0 & 0 & 1 \\\\ 0 & 0 & 1 & 0} } $\n",
    "$ \\newcommand{\\norm}[1]{ \\left\\lVert #1 \\right\\rVert } $\n",
    "$ \\newcommand{\\pstate}[1]{ \\lceil \\mspace{-1mu} #1 \\mspace{-1.5mu} \\rfloor } $"
   ]
  },
  {
   "cell_type": "markdown",
   "metadata": {},
   "source": [
    "<h1> Permutation Algorithm </h1>"
   ]
  },
  {
   "cell_type": "markdown",
   "metadata": {},
   "source": [
    "<img src=\"../images/permutation_circuit.png\" width=\"35%\" align=\"middle\">"
   ]
  },
  {
   "cell_type": "markdown",
   "metadata": {},
   "source": [
    "$$\n",
    "P_m^{\\pm}= \\sum_{k=0}^{d-1} \\ket{(m{\\pm}k)_{\\mod(4)}}\\bra{k} ~~~~~(1)\n",
    "$$"
   ]
  },
  {
   "cell_type": "markdown",
   "metadata": {},
   "source": [
    "$$\\ket{j} \\equiv \\ket{01} \\equiv \\ket{1}$$ \n",
    "$$\n",
    "QFT\\ket{j} = \\ket{\\psi_1} = \\frac{1}{\\sqrt{d}}\\sum_{k=0}^{d-1} e^{\\frac{2\\pi i j k }{d}}\\ket{k} ~~~~~~(2)\n",
    "$$"
   ]
  },
  {
   "cell_type": "markdown",
   "metadata": {},
   "source": [
    "$$\n",
    "\\ket{\\psi_2^\\pm} = P_m^{\\pm}QFT\\ket{j} = \\frac{1}{\\sqrt{d}}\\sum_{k=0}^{d-1} e^{\\frac{2\\pi i j k }{d}}\\ket{(m{\\pm}k)_{\\mod(4)}} ~~~~~(3)\n",
    "$$"
   ]
  },
  {
   "cell_type": "markdown",
   "metadata": {},
   "source": [
    "$$\n",
    "\\ket{\\psi_3^+} = QFT^{\\dagger}P_m^{+}QFT\\ket{j} = e^{\\frac{2\\pi i m j }{d}}\\ket{j}~~~~~(4)\n",
    "$$"
   ]
  },
  {
   "cell_type": "markdown",
   "metadata": {},
   "source": [
    "$$\n",
    "\\ket{\\psi_3^-} = QFT^{\\dagger}P_m^{-}QFT\\ket{j} = e^{\\frac{2\\pi i (d-j) m j }{d}}\\ket{(d-j)_{\\mod(d)}}~~~~~(5)\n",
    "$$"
   ]
  },
  {
   "cell_type": "markdown",
   "metadata": {},
   "source": [
    "$\n",
    "Question: \n",
    "QFT^{\\dagger} P^{+}_2 QFT \\ket{01} = what?\n",
    "$"
   ]
  },
  {
   "cell_type": "markdown",
   "metadata": {},
   "source": [
    "To find answer of this question, the equations given above can be used. For now, I'm beginning to find the $\\ket{\\psi_2}$ by using the equation (3) :\n",
    "\\begin{align*}\n",
    "\\ket{\\psi_2^+}& = P_2^+QFT\\ket{01} = P_2^+QFT\\ket{1} = \\frac{1}{\\sqrt{4}}\\sum_{k=0}^{4-1} e^{\\frac{2\\pi i 1 k } {4}}\\ket{(2{+}k)_{\\mod(4)}} \\\\\n",
    "&= \\frac{1}{2}\\sum_{k=0}^{3} e^{\\frac{\\pi i k }{2}}\\ket{(2{+}k)_{\\mod(4)}} = \\frac{1}{2}(e^{\\frac{\\pi i 0 }{2}}\\ket{(1{+}0)_{\\mod(4)}}+ e^{\\frac{\\pi i 1 }{2}}\\ket{(2{+}1)_{\\mod(4)}} + e^{\\frac{\\pi i 2 }{2}}\\ket{(2{+}2)_{\\mod(4)}} + e^{\\frac{\\pi i 3 }{2}}\\ket{(2{+}3)_{\\mod(4)}}) \\\\\n",
    "&= \\frac{1}{2}(\\ket{2} + e^{\\frac{\\pi i }{2}}\\ket{3} + e^{\\frac{\\pi i 2 }{2}}\\ket{0} + e^{\\frac{\\pi i 3 }{2}}\\ket{1} )\n",
    "\\end{align*}"
   ]
  },
  {
   "cell_type": "markdown",
   "metadata": {},
   "source": [
    "\\begin{align*}\n",
    "\\ket{\\psi_3^+}& = QFT^{\\dagger} P^{+}_2 QFT \\ket{01} = \\frac{1}{2}(QFT^{\\dagger}\\ket{2} + e^{\\frac{\\pi i }{2}}QFT^{\\dagger}\\ket{3} + e^{\\frac{\\pi i 2 }{2}}QFT^{\\dagger}\\ket{0} + e^{\\frac{\\pi i 3 }{2}}QFT^{\\dagger}\\ket{1} ) \\\\\n",
    "& = \\frac{1}{2}(\\frac{1}{2}\\sum_{k=0}^{3} e^{\\frac{2\\pi i 2 k }{4}}\\ket{k}+\\frac{1}{2}e^{\\frac{\\pi i }{2}}\\sum_{k=0}^{3} e^{\\frac{2\\pi i 3 k }{4}}\\ket{k}+\\frac{1}{2}e^{\\frac{\\pi i 2 }{2}}\\sum_{k=0}^{3} e^{\\frac{2\\pi i 0 k }{4}}\\ket{k}+\\frac{1}{2}e^{\\frac{\\pi i 3 }{2}}\\sum_{k=0}^{3}e^{\\frac{2\\pi i 1 k }{4}}\\ket{k}) \\\\\n",
    "&= \\frac{1}{4}[\\ket{0} + e^{-\\pi i}\\ket{1} + e^{-2\\pi i}\\ket{2} + e^{-3\\pi i}\\ket{3}\n",
    "+ e^{\\frac{2\\pi i}{4}}(\\ket{0} + e^{\\frac{-2\\pi i 3}{4}}\\ket{1} + e^{\\frac{-2\\pi i 2 3}{4}}\\ket{2} + e^{\\frac{-2\\pi i 3 3}{4}}\\ket{3})\n",
    "+ e^{\\pi i}(\\ket{0} + \\ket{1} + \\ket{2} + \\ket{3})\n",
    "+ e^{\\frac{3\\pi i}{2}}(\\ket{0} + e^{\\frac{-2\\pi i}{4}}\\ket{1} + e^{\\frac{-2\\pi i 2}{4}}\\ket{2} + e^{\\frac{-2\\pi i 3}{4}}\\ket{3})] \\\\\n",
    "&= \\frac{1}{4}[\\ket{0} + e^{-\\pi i}\\ket{1} + e^{-2\\pi i}\\ket{2} + e^{-3\\pi i}\\ket{3}\n",
    "+ e^{\\frac{2\\pi i}{4}}\\ket{0} + e^{-3\\pi i}\\ket{1} + e^{\\frac{-5\\pi i}{2}}\\ket{2} + e^{-4\\pi i}\\ket{3}\n",
    "+ e^{\\pi i}\\ket{0} + e^{\\pi i}\\ket{1} + e^{\\pi i}\\ket{2} + e^{\\pi i}\\ket{3}\n",
    "+ e^{\\frac{\\pi i 3}{2}}\\ket{0} + e^{\\pi i}\\ket{1} + e^{\\frac{\\pi i}{2}}\\ket{2} + \\ket{3}] \\\\\n",
    "&= \\frac{1}{4}[\\ket{0} - \\ket{1} + \\ket{2} -\\ket{3} + i\\ket{0} -\\ket{1} -i\\ket{2} + \\ket{3} -\\ket{0} -\\ket{1} -\\ket{2} -\\ket{3} -i\\ket{0} -\\ket{1} + i\\ket{2} + \\ket{3}] \\\\\n",
    "&= \\frac{1}{4}[-4\\ket{1}] = -\\ket{01}\n",
    "\\end{align*}"
   ]
  },
  {
   "cell_type": "markdown",
   "metadata": {},
   "source": [
    "If you look at the equation (4), you will see the equality such below: \n",
    "\\begin{align*}\n",
    "\\ket{\\psi_3^+} = e^{\\frac{2\\pi i j m}{d}}\\ket{j} = e^{\\frac{2\\pi i 1 2}{4}}\\ket{1} = e^{\\pi i}\\ket{1} \\equiv -\\ket{01}\n",
    "\\end{align*}\n",
    "\n",
    "Namely, we can open and implement the equations (3) and (4)."
   ]
  },
  {
   "cell_type": "code",
   "execution_count": 2,
   "metadata": {},
   "outputs": [],
   "source": [
    "#bitti! :) "
   ]
  },
  {
   "cell_type": "markdown",
   "metadata": {},
   "source": [
    "$\n",
    "Question: \n",
    "QFT^{\\dagger} P^{-}_2 QFT \\ket{01} = what?\n",
    "$"
   ]
  },
  {
   "cell_type": "markdown",
   "metadata": {},
   "source": [
    "To find answer of this question, the equations given above can be used. For now, I'm beginning to find the $\\ket{\\psi_2}$ by using the equation (3) :\n",
    "\\begin{align*}\n",
    "\\ket{\\psi_2^-}& = P_2^-QFT\\ket{01} = P_2^-QFT\\ket{1} = \\frac{1}{\\sqrt{4}}\\sum_{k=0}^{4-1} e^{\\frac{2\\pi i 1 k } {4}}\\ket{(2{-}k)_{\\mod(4)}} \\\\\n",
    "&= \\frac{1}{2}\\sum_{k=0}^{3} e^{\\frac{\\pi i k }{2}}\\ket{(2{-}k)_{\\mod(4)}} = \\frac{1}{2}(e^{\\frac{\\pi i 0 }{2}}\\ket{(2{-}0)_{\\mod(4)}}+ e^{\\frac{\\pi i 1 }{2}}\\ket{(2{-}1)_{\\mod(4)}} + e^{\\frac{\\pi i 2 }{2}}\\ket{(2{-}2)_{\\mod(4)}} + e^{\\frac{\\pi i 3 }{2}}\\ket{(2{-}3)_{\\mod(4)}}) \\\\\n",
    "&= \\frac{1}{2}(\\ket{2} + e^{\\frac{\\pi i }{2}}\\ket{1} + e^{\\frac{\\pi i 2 }{2}}\\ket{0} + e^{\\frac{\\pi i 3 }{2}}\\ket{3} )\n",
    "\\end{align*}"
   ]
  },
  {
   "cell_type": "markdown",
   "metadata": {},
   "source": [
    "\\begin{align*}\n",
    "\\ket{\\psi_3^-}& = QFT^{\\dagger} P^{-}_2 QFT \\ket{01} = \\frac{1}{2}(QFT^{\\dagger}\\ket{2} + e^{\\frac{\\pi i }{2}}QFT^{\\dagger}\\ket{1} + e^{\\frac{\\pi i 2 }{2}}QFT^{\\dagger}\\ket{0} + e^{\\frac{\\pi i 3 }{2}}QFT^{\\dagger}\\ket{3}) \\\\\n",
    "& = \\frac{1}{2}(\\frac{1}{2}\\sum_{k=0}^{3} e^{\\frac{-2\\pi i 2 k }{4}}\\ket{k}+\\frac{1}{2}e^{\\frac{\\pi i }{2}}\\sum_{k=0}^{3} e^{\\frac{-2\\pi i 1 k }{4}}\\ket{k}+\\frac{1}{2}e^{\\frac{\\pi i 2 }{2}}\\sum_{k=0}^{3} e^{\\frac{-2\\pi i 0 k }{4}}\\ket{k}+\\frac{1}{2}e^{\\frac{\\pi i 3 }{2}}\\sum_{k=0}^{3} e^{\\frac{-2\\pi i 3 k }{4}}\\ket{k}) \\\\\n",
    "&= \\frac{1}{4}[\\ket{0} + e^{\\frac{-\\pi i}{2}}\\ket{1} + e^{-\\pi i}\\ket{2} + e^{\\frac{-3\\pi i}{2}}\\ket{3}\n",
    "+ e^{\\frac{\\pi i}{2}}(\\ket{0} + \\ket{1} + \\ket{2} + \\ket{3}) + e^{\\pi i}(\\ket{0} + e^{\\frac{-3\\pi i}{2}}\\ket{1} + e^{-3\\pi i}\\ket{2} + e^{\\frac{-9\\pi i}{2}}\\ket{3})+ e^{\\frac{3\\pi i}{2}}(\\ket{0} + e^{-\\pi i}\\ket{1} + e^{-2\\pi i}\\ket{2} + e^{-3\\pi i}\\ket{3})] \\\\\n",
    "&= \\frac{1}{4}[\\ket{0} + e^{\\frac{-\\pi i}{2}}\\ket{1} + e^{-\\pi i}\\ket{2} + e^{\\frac{-3\\pi i}{2}}\\ket{3}+ e^{\\frac{\\pi i}{2}}\\ket{0} + e^{\\frac{\\pi i}{2}}\\ket{1} + e^{\\frac{\\pi i}{2}}\\ket{2} + e^{\\frac{\\pi i}{2}}\\ket{3}+ e^{\\pi i}\\ket{0} + e^{\\frac{-\\pi i}{2}}\\ket{1} + e^{-2\\pi i}\\ket{2} + e^{\\frac{-7\\pi i}{2}}\\ket{3}+ e^{\\frac{\\pi i 3}{2}}\\ket{0} + e^{\\frac{\\pi i}{2}}\\ket{1} + e^{\\frac{-\\pi i}{2}}\\ket{2} + e^{\\frac{-3\\pi i}{2}}\\ket{3}] \\\\\n",
    "&= \\frac{1}{4}[\\ket{0} - i\\ket{1} -\\ket{2} +i\\ket{3} + i\\ket{0} +i\\ket{1} +i\\ket{2} +i\\ket{3} -\\ket{0} -i\\ket{1} +\\ket{2}+i\\ket{3} -i\\ket{0} +i\\ket{1} - i\\ket{2} +i\\ket{3}] \\\\ \n",
    "&= \\frac{1}{4}[4i\\ket{3}] = i\\ket{11}\n",
    "\\end{align*}"
   ]
  },
  {
   "cell_type": "markdown",
   "metadata": {},
   "source": [
    "\\begin{align*}\n",
    "\\ket{\\psi_3^-}& = QFT^{\\dagger} P^{-}_2 QFT \\ket{01} = \\frac{1}{2}(QFT^{\\dagger}\\ket{2} + e^{\\frac{\\pi i }{2}}QFT^{\\dagger}\\ket{1} + e^{\\frac{\\pi i 2 }{2}}QFT^{\\dagger}\\ket{0} + e^{\\frac{\\pi i 3 }{2}}QFT^{\\dagger}\\ket{3}) \\\\\n",
    "& = \\frac{1}{2}(\\frac{1}{2}\\sum_{k=0}^{3} e^{\\frac{-2\\pi i 2 k }{4}}\\ket{k}+\\frac{1}{2}e^{\\frac{\\pi i }{2}}\\sum_{k=0}^{3} e^{\\frac{-2\\pi i 1 k }{4}}\\ket{k}+\\frac{1}{2}e^{\\frac{\\pi i 2 }{2}}\\sum_{k=0}^{3} e^{\\frac{-2\\pi i 0 k }{4}}\\ket{k}+\\frac{1}{2}e^{\\frac{\\pi i 3 }{2}}\\sum_{k=0}^{3} e^{\\frac{-2\\pi i 3 k }{4}}\\ket{k}) \\\\\n",
    "&= \\frac{1}{4}[\\ket{0} + e^{-\\pi i}\\ket{1} + e^{-2\\pi i}\\ket{2} + e^{-3\\pi i}\\ket{3}\n",
    "+ e^{\\frac{\\pi i}{2}}(\\ket{0} + e^{\\frac{-\\pi i}{2}}\\ket{1} + e^{-\\pi i}\\ket{2} + e^{\\frac{-3\\pi i}{2}}\\ket{3}) + e^{\\pi i}(\\ket{0} + \\ket{1} + \\ket{2} + \\ket{3})+ e^{\\frac{3\\pi i}{2}}(\\ket{0} + e^{\\frac{-3\\pi i}{2}}\\ket{1} + e^{-3\\pi i}\\ket{2} + e^{\\frac{-9\\pi i}{2}}\\ket{3})] \\\\\n",
    "&= \\frac{1}{4}[\\ket{0} + e^{-\\pi i}\\ket{1} + e^{-2\\pi i}\\ket{2} + e^{-3\\pi i}\\ket{3}+ e^{\\frac{\\pi i}{2}}\\ket{0} + \\ket{1} + e^{\\frac{-\\pi i}{2}}\\ket{2} + e^{-\\pi i}\\ket{3}+ e^{\\pi i}\\ket{0} + e^{\\pi i}\\ket{1} + e^{\\pi i}\\ket{2} + e^{\\pi i}\\ket{3}+ e^{\\frac{\\pi i 3}{2}}\\ket{0} + \\ket{1} + e^{\\frac{-3\\pi i}{2}}\\ket{2} + e^{-3\\pi i}\\ket{3}] \\\\\n",
    "&= \\frac{1}{4}[\\ket{0} -\\ket{1} +\\ket{2} -\\ket{3} + i\\ket{0} +\\ket{1} -i\\ket{2} -\\ket{3} -\\ket{0} -\\ket{1} -\\ket{2}-\\ket{3} -i\\ket{0} +\\ket{1} + i\\ket{2} -\\ket{3}] \\\\ \n",
    "&= \\frac{1}{4}[-4\\ket{3}] = -\\ket{11}\n",
    "\\end{align*}"
   ]
  },
  {
   "cell_type": "markdown",
   "metadata": {},
   "source": [
    "If you look at the equation (4), you will see the equality such below: \n",
    "\\begin{align*}\n",
    "\\ket{\\psi_3^-} = e^{\\frac{2\\pi i(d-j)j m}{d}}\\ket{(d-j)_{\\mod(d)}} = e^{\\frac{2\\pi i(4-1)1 2}{4}}\\ket{(4-1)_{\\mod(4)}} = e^{3\\pi i}\\ket{3} \\equiv -\\ket{11}\n",
    "\\end{align*}\n",
    "\n",
    "Namely, we can open and implement the equations (3) and (4)."
   ]
  },
  {
   "cell_type": "code",
   "execution_count": 3,
   "metadata": {},
   "outputs": [],
   "source": [
    "#bitti :)"
   ]
  },
  {
   "cell_type": "markdown",
   "metadata": {},
   "source": [
    "$\n",
    "Question: \n",
    "QFT^{\\dagger} P^{+}_2 QFT \\ket{00} = what?\n",
    "$"
   ]
  },
  {
   "cell_type": "markdown",
   "metadata": {},
   "source": [
    "To find answer of this question, the equations given above can be used. For now, I'm beginning to find the $\\ket{\\psi_2}$ by using the equation (3) :\n",
    "\\begin{align*}\n",
    "\\ket{\\psi_2^+}& = P_2^+QFT\\ket{00} = P_2^+QFT\\ket{0} = \\frac{1}{\\sqrt{4}}\\sum_{k=0}^{4-1} e^{\\frac{2\\pi i 0 k } {4}}\\ket{(2{+}k)_{\\mod(4)}} \\\\\n",
    "&= \\frac{1}{2}\\sum_{k=0}^{3} \\ket{(2{+}k)_{\\mod(4)}} = \\frac{1}{2}(\\ket{(2{+}0)_{\\mod(4)}} +\\ket{(2{+}1)_{\\mod(4)}} + \\ket{(2{+}2)_{\\mod(4)}} + \\ket{(2{+}3)_{\\mod(4)}}) \\\\\n",
    "&= \\frac{1}{2}(\\ket{2} + \\ket{3} + \\ket{0} + \\ket{1} )\n",
    "\\end{align*}"
   ]
  },
  {
   "cell_type": "markdown",
   "metadata": {},
   "source": [
    "\\begin{align*}\n",
    "\\ket{\\psi_3^+}& = QFT^{\\dagger} P^{+}_2 QFT \\ket{00} = \\frac{1}{2}(QFT^{\\dagger}\\ket{2} + QFT^{\\dagger}\\ket{3} + QFT^{\\dagger}\\ket{0} + QFT^{\\dagger}\\ket{1}) \\\\\n",
    "& = \\frac{1}{2}(\\frac{1}{2}\\sum_{k=0}^{3} e^{\\frac{-2\\pi i 2 k }{4}}\\ket{k}+\\frac{1}{2}\\sum_{k=0}^{3} e^{\\frac{-2\\pi i 3 k }{4}}\\ket{k}+\\frac{1}{2}\\sum_{k=0}^{3} e^{\\frac{-2\\pi i 0 k }{4}}\\ket{k}+\\frac{1}{2}\\sum_{k=0}^{3} e^{\\frac{-2\\pi i 1 k }{4}}\\ket{k}) \\\\\n",
    "&= \\frac{1}{4}[\\ket{0} + e^{-\\pi i}\\ket{1} + e^{-2\\pi i}\\ket{2} + e^{-3\\pi i}\\ket{3}\n",
    "+ \\ket{0} + e^{\\frac{-3\\pi}{2}}\\ket{1} + e^{-3\\pi i}\\ket{2} + e^{\\frac{-9\\pi i}{2}}\\ket{3} + \\ket{0} + \\ket{1} + \\ket{2} + \\ket{3}+ \\ket{0} + e^{\\frac{-\\pi i}{2}}\\ket{1} + e^{-\\pi i}\\ket{2} + e^{\\frac{-3\\pi i}{2}}\\ket{3}] \\\\\n",
    "&= \\frac{1}{4}[\\ket{0} -\\ket{1} +\\ket{2} -\\ket{3} + \\ket{0} +i\\ket{1} -\\ket{2} -i\\ket{3} +\\ket{0} +\\ket{1} +\\ket{2}+\\ket{3} +\\ket{0} -i\\ket{1} -\\ket{2} +i\\ket{3}] \\\\ \n",
    "&= \\frac{1}{4}[4\\ket{0}] = \\ket{00}\n",
    "\\end{align*}"
   ]
  },
  {
   "cell_type": "markdown",
   "metadata": {},
   "source": [
    "If you look at the equation (4), you will see the equality such below: \n",
    "\\begin{align*}\n",
    "\\ket{\\psi_3^+} = e^{\\frac{2\\pi i j m}{4}}\\ket{j} = e^{\\frac{2\\pi i 0 2}{4}}\\ket{0} = \\ket{0} \\equiv \\ket{00}\n",
    "\\end{align*}\n",
    "\n",
    "Namely, we can open and implement the equations (3) and (4)."
   ]
  },
  {
   "cell_type": "code",
   "execution_count": 10,
   "metadata": {},
   "outputs": [],
   "source": [
    "#bitti :)"
   ]
  },
  {
   "cell_type": "markdown",
   "metadata": {},
   "source": [
    "$\n",
    "Question: \n",
    "QFT^{\\dagger} P^{-}_2 QFT \\ket{00} = what?\n",
    "$"
   ]
  },
  {
   "cell_type": "markdown",
   "metadata": {},
   "source": [
    "To find answer of this question, the equations given above can be used. For now, I'm beginning to find the $\\ket{\\psi_2}$ by using the equation (3) :\n",
    "\\begin{align*}\n",
    "\\ket{\\psi_2^-}& = P_2^-QFT\\ket{00} = P_2^-QFT\\ket{0} = \\frac{1}{\\sqrt{4}}\\sum_{k=0}^{4-1} e^{\\frac{2\\pi i 0 k } {4}}\\ket{(2{-}k)_{\\mod(4)}} \\\\\n",
    "&= \\frac{1}{2}\\sum_{k=0}^{3} \\ket{(2{-}k)_{\\mod(4)}} = \\frac{1}{2}(\\ket{(2{-}0)_{\\mod(4)}} +\\ket{(2{-}1)_{\\mod(4)}} + \\ket{(2{-}2)_{\\mod(4)}} + \\ket{(2{-}3)_{\\mod(4)}}) \\\\\n",
    "&= \\frac{1}{2}(\\ket{2} + \\ket{1} + \\ket{0} + \\ket{3} )\n",
    "\\end{align*}"
   ]
  },
  {
   "cell_type": "markdown",
   "metadata": {},
   "source": [
    "\\begin{align*}\n",
    "\\ket{\\psi_3^-}& = QFT^{\\dagger} P^{-}_2 QFT \\ket{00} = \\frac{1}{2}(QFT^{\\dagger}\\ket{2} + QFT^{\\dagger}\\ket{1} + QFT^{\\dagger}\\ket{0} + QFT^{\\dagger}\\ket{3}) \\\\\n",
    "& = \\frac{1}{2}(\\frac{1}{2}\\sum_{k=0}^{3} e^{\\frac{-2\\pi i 2 k }{4}}\\ket{k}+\\frac{1}{2}\\sum_{k=0}^{3} e^{\\frac{-2\\pi i 1 k }{4}}\\ket{k}+\\frac{1}{2}\\sum_{k=0}^{3} e^{\\frac{-2\\pi i 0 k }{4}}\\ket{k}+\\frac{1}{2}\\sum_{k=0}^{3} e^{\\frac{-2\\pi i 3 k }{4}}\\ket{k}) \\\\\n",
    "&= \\frac{1}{4}[\\ket{0} + e^{-\\pi i}\\ket{1} + e^{-2\\pi i}\\ket{2} + e^{-3\\pi i}\\ket{3}\n",
    "+ \\ket{0} + e^{\\frac{-\\pi i}{2}}\\ket{1} + e^{-\\pi i}\\ket{2} + e^{\\frac{-3\\pi i}{2}}\\ket{3} + \\ket{0} + \\ket{1} + \\ket{2} + \\ket{3}+ \\ket{0} + e^{\\frac{-3\\pi i}{2}}\\ket{1} + e^{-3\\pi i}\\ket{2} + e^{\\frac{-9\\pi i}{2}}\\ket{3}] \\\\\n",
    "&= \\frac{1}{4}[\\ket{0} -\\ket{1} +\\ket{2} -\\ket{3} + \\ket{0} -i\\ket{1} -\\ket{2} +i\\ket{3} +\\ket{0} +\\ket{1} +\\ket{2}+\\ket{3} +\\ket{0} +i\\ket{1} -\\ket{2} -i\\ket{3}] \\\\ \n",
    "&= \\frac{1}{4}[\\ket{0}] = \\ket{00}\n",
    "\\end{align*}"
   ]
  },
  {
   "cell_type": "markdown",
   "metadata": {},
   "source": [
    "If you look at the equation (4), you will see the equality such below: \n",
    "\\begin{align*}\n",
    "\\ket{\\psi_3^-} = e^{\\frac{2\\pi i(d-j)j m}{d}}\\ket{(d-j)_{\\mod(d)}} = e^{\\frac{2\\pi i(4-0)0 2}{4}}\\ket{(4-0)_{\\mod(4)}} = \\ket{0} \\equiv \\ket{00}\n",
    "\\end{align*}\n",
    "\n",
    "Namely, we can open and implement the equations (3) and (4)."
   ]
  },
  {
   "cell_type": "code",
   "execution_count": 9,
   "metadata": {},
   "outputs": [],
   "source": [
    "#bitti :)"
   ]
  },
  {
   "cell_type": "markdown",
   "metadata": {},
   "source": [
    "$\n",
    "Question: \n",
    "QFT^{\\dagger} P^{+}_0 QFT \\ket{01} = what?\n",
    "$"
   ]
  },
  {
   "cell_type": "markdown",
   "metadata": {},
   "source": [
    "To find answer of this question, the equations given above can be used. For now, I'm beginning to find the $\\ket{\\psi_2}$ by using the equation (3) :\n",
    "\\begin{align*}\n",
    "\\ket{\\psi_2^+}& = P_0^+QFT\\ket{01} = P_0^+QFT\\ket{1} = \\frac{1}{\\sqrt{4}}\\sum_{k=0}^{4-1} e^{\\frac{2\\pi i 1 k } {4}}\\ket{(0{+}k)_{\\mod(4)}} \\\\\n",
    "&= \\frac{1}{2}\\sum_{k=0}^{3} \\ket{(0{+}k)_{\\mod(4)}} = \\frac{1}{2}(\\ket{(0{+}0)_{\\mod(4)}} +e^{\\frac{2\\pi i 1 k } {4}}\\ket{(0{+}1)_{\\mod(4)}} + e^{\\frac{2\\pi i 2 k } {4}}\\ket{(0{+}2)_{\\mod(4)}} + e^{\\frac{2\\pi i 3 k } {4}}\\ket{(0{+}3)_{\\mod(4)}}) \\\\\n",
    "&= \\frac{1}{2}(\\ket{0} + e^{\\frac{\\pi i k }{2}}\\ket{1} + e^{\\pi i k}\\ket{2} + e^{\\frac{\\pi i 3 k }{2}}\\ket{3} )\n",
    "\\end{align*}"
   ]
  },
  {
   "cell_type": "markdown",
   "metadata": {},
   "source": [
    "\\begin{align*}\n",
    "\\ket{\\psi_3^+}& = QFT^{\\dagger} P^{+}_0 QFT \\ket{00} = \\frac{1}{2}(QFT^{\\dagger}\\ket{0} + e^{\\frac{\\pi i k }{2}} QFT^{\\dagger}\\ket{1} + e^{\\pi i k}QFT^{\\dagger}\\ket{2} + e^{\\frac{\\pi i 3 k }{2}}QFT^{\\dagger}\\ket{3}) \\\\\n",
    "& = \\frac{1}{2}(\\frac{1}{2}\\sum_{k=0}^{3} e^{\\frac{-2\\pi i 0 k }{4}}\\ket{k}+\\frac{1}{2}e^{\\frac{\\pi i k }{2}}\\sum_{k=0}^{3} e^{\\frac{-2\\pi i 1 k }{4}}\\ket{k}+\\frac{1}{2}\\sum_{k=0}^{3} e^{\\frac{-2\\pi i 2 k }{4}}\\ket{k}+\\frac{1}{2}\\sum_{k=0}^{3} e^{\\frac{-2\\pi i 3 k }{4}}\\ket{k}) \\\\\n",
    "&= \\frac{1}{4}[\\ket{0} + e^{-\\pi i}\\ket{1} + e^{-2\\pi i}\\ket{2} + e^{-3\\pi i}\\ket{3}\n",
    "+ \\ket{0} + e^{\\frac{-\\pi i}{2}}\\ket{1} + e^{-\\pi i}\\ket{2} + e^{\\frac{-3\\pi i}{2}}\\ket{3} + \\ket{0} + \\ket{1} + \\ket{2} + \\ket{3}+ \\ket{0} + e^{\\frac{-3\\pi i}{2}}\\ket{1} + e^{-3\\pi i}\\ket{2} + e^{\\frac{-9\\pi i}{2}}\\ket{3}] \\\\\n",
    "&= \\frac{1}{4}[\\ket{0} -\\ket{1} +\\ket{2} -\\ket{3} + \\ket{0} -i\\ket{1} -\\ket{2} +i\\ket{3} +\\ket{0} +\\ket{1} +\\ket{2}+\\ket{3} +\\ket{0} +i\\ket{1} -\\ket{2} -i\\ket{3}] \\\\ \n",
    "&= \\frac{1}{4}[\\ket{0}] = \\ket{00}\n",
    "\\end{align*}"
   ]
  },
  {
   "cell_type": "markdown",
   "metadata": {},
   "source": [
    "If you look at the equation (4), you will see the equality such below: \n",
    "\\begin{align*}\n",
    "\\ket{\\psi_3^-} = e^{\\frac{2\\pi i(d-j)j m}{d}}\\ket{(d-j)_{\\mod(d)}} = e^{\\frac{2\\pi i(4-0)0 2}{4}}\\ket{(4-0)_{\\mod(4)}} = \\ket{0} \\equiv \\ket{00}\n",
    "\\end{align*}\n",
    "\n",
    "Namely, we can open and implement the equations (3) and (4)."
   ]
  },
  {
   "cell_type": "code",
   "execution_count": 1,
   "metadata": {},
   "outputs": [],
   "source": [
    "#bitmedi :)"
   ]
  },
  {
   "cell_type": "markdown",
   "metadata": {},
   "source": [
    "As these examples, you can do 32 different operation in total! :)"
   ]
  },
  {
   "cell_type": "code",
   "execution_count": null,
   "metadata": {},
   "outputs": [],
   "source": []
  }
 ],
 "metadata": {
  "kernelspec": {
   "display_name": "Python 3",
   "language": "python",
   "name": "python3"
  },
  "language_info": {
   "codemirror_mode": {
    "name": "ipython",
    "version": 3
   },
   "file_extension": ".py",
   "mimetype": "text/x-python",
   "name": "python",
   "nbconvert_exporter": "python",
   "pygments_lexer": "ipython3",
   "version": "3.8.5"
  }
 },
 "nbformat": 4,
 "nbformat_minor": 2
}
