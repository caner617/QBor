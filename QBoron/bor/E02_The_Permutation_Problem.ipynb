{
 "cells": [
  {
   "cell_type": "markdown",
   "metadata": {},
   "source": [
    "<table  align=\"left\" width=\"100%\"> <tr>\n",
    "        <td  style=\"background-color:#ffffff;\"><a href=\"https://qsoftware.lu.lv/index.php/qworld/\" target=\"_blank\"><img src=\"..\\images\\qworld.jpg\" width=\"35%\" align=\"left\"></a></td>\n",
    "        <td  align=\"right\" style=\"background-color:#ffffff;vertical-align:bottom;horizontal-align:right\">\n",
    "            prepared by Caner ERCAN (<a href=\"http://qworld.lu.lv/index.php/qturkey/\" target=\"_blank\">QTurkey</a>)\n",
    "        </td>        \n",
    "</tr></table>"
   ]
  },
  {
   "cell_type": "markdown",
   "metadata": {},
   "source": [
    "<table width=\"100%\"><tr><td style=\"color:#bbbbbb;background-color:#ffffff;font-size:11px;font-style:italic;text-align:right;\">This cell contains some macros. If there is a problem with displaying mathematical formulas, please run this cell to load these macros. </td></tr></table>\n",
    "$ \\newcommand{\\bra}[1]{\\langle #1|} $\n",
    "$ \\newcommand{\\ket}[1]{|#1\\rangle} $\n",
    "$ \\newcommand{\\braket}[2]{\\langle #1|#2\\rangle} $\n",
    "$ \\newcommand{\\dot}[2]{ #1 \\cdot #2} $\n",
    "$ \\newcommand{\\biginner}[2]{\\left\\langle #1,#2\\right\\rangle} $\n",
    "$ \\newcommand{\\mymatrix}[2]{\\left( \\begin{array}{#1} #2\\end{array} \\right)} $\n",
    "$ \\newcommand{\\myvector}[1]{\\mymatrix{c}{#1}} $\n",
    "$ \\newcommand{\\myrvector}[1]{\\mymatrix{r}{#1}} $\n",
    "$ \\newcommand{\\mypar}[1]{\\left( #1 \\right)} $\n",
    "$ \\newcommand{\\mybigpar}[1]{ \\Big( #1 \\Big)} $\n",
    "$ \\newcommand{\\sqrttwo}{\\frac{1}{\\sqrt{2}}} $\n",
    "$ \\newcommand{\\dsqrttwo}{\\dfrac{1}{\\sqrt{2}}} $\n",
    "$ \\newcommand{\\onehalf}{\\frac{1}{2}} $\n",
    "$ \\newcommand{\\donehalf}{\\dfrac{1}{2}} $\n",
    "$ \\newcommand{\\hadamard}{ \\mymatrix{rr}{ \\sqrttwo & \\sqrttwo \\\\ \\sqrttwo & -\\sqrttwo }} $\n",
    "$ \\newcommand{\\vzero}{\\myvector{1\\\\0}} $\n",
    "$ \\newcommand{\\vone}{\\myvector{0\\\\1}} $\n",
    "$ \\newcommand{\\stateplus}{\\myvector{ \\sqrttwo \\\\  \\sqrttwo } } $\n",
    "$ \\newcommand{\\stateminus}{ \\myrvector{ \\sqrttwo \\\\ -\\sqrttwo } } $\n",
    "$ \\newcommand{\\myarray}[2]{ \\begin{array}{#1}#2\\end{array}} $\n",
    "$ \\newcommand{\\X}{ \\mymatrix{cc}{0 & 1 \\\\ 1 & 0}  } $\n",
    "$ \\newcommand{\\Z}{ \\mymatrix{rr}{1 & 0 \\\\ 0 & -1}  } $\n",
    "$ \\newcommand{\\Htwo}{ \\mymatrix{rrrr}{ \\frac{1}{2} & \\frac{1}{2} & \\frac{1}{2} & \\frac{1}{2} \\\\ \\frac{1}{2} & -\\frac{1}{2} & \\frac{1}{2} & -\\frac{1}{2} \\\\ \\frac{1}{2} & \\frac{1}{2} & -\\frac{1}{2} & -\\frac{1}{2} \\\\ \\frac{1}{2} & -\\frac{1}{2} & -\\frac{1}{2} & \\frac{1}{2} } } $\n",
    "$ \\newcommand{\\CNOT}{ \\mymatrix{cccc}{1 & 0 & 0 & 0 \\\\ 0 & 1 & 0 & 0 \\\\ 0 & 0 & 0 & 1 \\\\ 0 & 0 & 1 & 0} } $\n",
    "$ \\newcommand{\\norm}[1]{ \\left\\lVert #1 \\right\\rVert } $\n",
    "$ \\newcommand{\\pstate}[1]{ \\lceil \\mspace{-1mu} #1 \\mspace{-1.5mu} \\rfloor } $"
   ]
  },
  {
   "cell_type": "markdown",
   "metadata": {},
   "source": [
    "<h1> The Permutation Problem </h1>"
   ]
  },
  {
   "cell_type": "markdown",
   "metadata": {},
   "source": [
    "Before starting the problem, it might necessary to have or remember some intutions about reading gates or matrices. "
   ]
  },
  {
   "cell_type": "markdown",
   "metadata": {},
   "source": [
    "If you have a gate like below one, you should be able to see its action when you take a glance it. For now, we name it $E_{1}$, from the word \"easy\" and its subscript is not indicate how many dimension has it, like one in the previous notebook. \n",
    "\n",
    "$ E_{1}= \\mymatrix{rrrrr}{0 & 1 & 0 \\\\ \n",
    "                   0 & 0 & 0 \\\\\n",
    "                    0 & 0 & 0} $ \n",
    "\n",
    "When appling $E$ gate to $\\ket{1}$, it outs $\\ket{0}$ with $100\\%$ probability and it will not do anything to other input states. More clearly, \n",
    "\n",
    "* $ E_{1}\\ket{0}= 0$\n",
    "* $ E_{1}\\ket{1}=\\mymatrix{rrrrr}{0 & 1 & 0\\\\ \n",
    "                   0 & 0 & 0 \\\\\n",
    "                    0 & 0 & 0} \\myvector{0 \\\\ 1 \\\\ 0} = \\myvector{1 \\\\ 0 \\\\ 0}= \\ket{0}$\n",
    "* $ E_{1}\\ket{2}= 0$\n",
    "\n",
    "If you do not feel yourself comfortable, you can solve the optional tasks. "
   ]
  },
  {
   "cell_type": "markdown",
   "metadata": {},
   "source": [
    "<h3>Task 1 (on paper and optional)</h3>\n",
    "\n",
    "Please, apply the $E$ gates defined below to its basis states, $E \\in \\{\\ket{0}, \\ket{1},\\ket{2}\\}$.\n",
    "\n",
    "a) $ E_{2}= \\mymatrix{rrrrr}{0 & 0 & 0 \\\\ \n",
    "                    0 & 0 & 0 \\\\\n",
    "                    1 & 0 & 0} $\n",
    "\n",
    "b) $ E_{3}= \\mymatrix{rrrrr}{0 & 0 & 0 \\\\ \n",
    "                    0 & 0 & 1 \\\\\n",
    "                    0 & 0 & 0} $\n",
    "                    \n",
    "<a href=\"E02_The_Permutation_Problem_Solutions.ipynb#task1\">click for our solution</a>"
   ]
  },
  {
   "cell_type": "markdown",
   "metadata": {},
   "source": [
    "<h3>Task 2 (on paper)</h3>\n",
    "\n",
    "Please, add these three $E$ gates together. It will be $\\Pi_{2}$  that is our one of the permutation gates.\n",
    "\n",
    "<a href=\"E02_The_Permutation_Problem_Solutions.ipynb#task2\">click for our solution</a>"
   ]
  },
  {
   "cell_type": "markdown",
   "metadata": {},
   "source": [
    "Even though we work with $100\\%$ probability, I can represent $E$ gate with a disk and a table.  <font color=\"green\"> We will continue with this representation: </font> \n",
    "\n",
    "<img src=\"../images/one_table_with_one_disk.png\" width=\"25%\" align=\"middle\">"
   ]
  },
  {
   "cell_type": "markdown",
   "metadata": {},
   "source": [
    "<h2> The Problem </h2>\n",
    "\n",
    "With this stage, we take the first step to Quantum Permutation Algorithm(QPA). Let's start to tell the problem solved by the simplest quantum algorithm until this time. \n",
    "\n",
    "If you have $3$ disk and a table divided into $9$ parts, how many different ways can you arrange? You have to put  just one disk to the same row and column. \n",
    "\n",
    "<img src=\"../images/one_table_with_three_disks.png\" width=\"40%\" align=\"middle\">\n",
    "\n",
    "It has a very simple answer, if you has participated the factorial classes in your high school, $3!=6$... Let's take a look at the figure below: \n",
    "\n",
    "<img src=\"../images/six_permutation_1.png\" width=\"60%\" align=\"middle\">\n"
   ]
  },
  {
   "cell_type": "markdown",
   "metadata": {},
   "source": [
    "Now, let's put some indices around the tables: "
   ]
  },
  {
   "cell_type": "markdown",
   "metadata": {},
   "source": [
    "<img src=\"../images/six_permutation_2.png\" width=\"60%\" align=\"middle\">"
   ]
  },
  {
   "cell_type": "markdown",
   "metadata": {},
   "source": [
    "<font color=\"red\"> !not ready yet! </font> \n",
    "\n",
    "You know how to read this tables. We use Cauchy's two-line notation$^1$. x $\\in \\{0,1,2\\}$ \n",
    "\n",
    "$f_{3}= \\mymatrix{rrr}{0 & 1 & 2 \\\\ 1 & 2 & 0}$ bijection $f:\\{0,1,2\\} \\rightarrow \\{0,1,2\\}$\n",
    "\n",
    "For the third one, you've already learnt its action and you can convince yourself for the others: \n",
    "\n",
    "<font color=\"red\"> !not ready yet! </font> "
   ]
  },
  {
   "cell_type": "markdown",
   "metadata": {},
   "source": [
    "<img src=\"../images/six_permutations_3.png\" width=\"60%\" align=\"middle\">"
   ]
  },
  {
   "cell_type": "markdown",
   "metadata": {},
   "source": [
    "If I applied $\\Pi_{3}$ gate to the series $(1,2,3)$, I will have the series $(2,3,1)$. And I applied same gate to this output series as input series, I will have $(3,1,2)$. And in the end, I will have the same input series $(1,2,3)$. So, I should do $3$ iteration to have same series for $\\Pi_{3}$ gate. What about for the others? "
   ]
  },
  {
   "cell_type": "markdown",
   "metadata": {},
   "source": [
    "<h3>Task 3 (on paper)</h3>\n",
    "\n",
    "Please, do same sequence for other $\\Pi$ gates and demonstrate how many iteration should be applied to have same input series? \n",
    "\n",
    "<a href=\"E02_The_Permutation_Problem_Solutions.ipynb#task3\">click for our solution</a>"
   ]
  },
  {
   "cell_type": "markdown",
   "metadata": {},
   "source": [
    "Now, let's create a problem with these toys. We seperate these tables into $2$ group by number of exchanging they have: **even**s which are the top ones and **odd**s which are the bottom ones. And, we will call this feature the \"parity\" of table. \n",
    "\n",
    "If you have one of these tables or gates or operators but you do not know the positions of disks, how many query should you make to detemine the parity of the gate you have? You will see just one disk in each query. **Classicaly**, you can solve this problem with $2$ query. \n",
    "\n",
    "<font color=\"red\"> !a gif that demonstrate these six table and their parity will be here! </font> "
   ]
  },
  {
   "cell_type": "markdown",
   "metadata": {},
   "source": [
    "But **quantumly**, with $1$ query! Here is quadratic$^2$ speed-up!\n",
    "\n",
    "> You can determine the parity of any these gates by using a qutrit and making only $1$ query. "
   ]
  },
  {
   "cell_type": "markdown",
   "metadata": {},
   "source": [
    "You can see how this weirdness becomes step by step in next notebook."
   ]
  },
  {
   "cell_type": "markdown",
   "metadata": {},
   "source": [
    "<font color=\"red\"> !not ready yet! </font> \n",
    "<h2> Recap </h2>\n",
    "\n",
    "<i>What have we learned so far?</i>\n",
    "<ul>\n",
    "    <li> A quantum state can be represented by a 3x1 vector, in which each entry can be zero, a positive value, or a negative value. </li>\n",
    "    <li> We can also say that the amplitude of being in any state can be zero, a positive value, or a negative value. </li>\n",
    "    <li> The probability of observing one state after measurement is the square of its amplitude. </li>\n",
    "</ul>\n",
    "\n",
    "<i>What else can we say?</i>\n",
    "\n",
    "Can the entries of a quantum state be arbitrary?\n",
    "\n",
    "Do you remember the properties of a probabilistic state?\n",
    "\n",
    "<font color=\"red\"> !not ready yet! </font> "
   ]
  },
  {
   "cell_type": "markdown",
   "metadata": {},
   "source": [
    "---\n",
    "**[1] Cauchy's two-line notation**\n",
    "\n",
    "**[2] Quadratic means that**"
   ]
  }
 ],
 "metadata": {
  "kernelspec": {
   "display_name": "Python 3",
   "language": "python",
   "name": "python3"
  },
  "language_info": {
   "codemirror_mode": {
    "name": "ipython",
    "version": 3
   },
   "file_extension": ".py",
   "mimetype": "text/x-python",
   "name": "python",
   "nbconvert_exporter": "python",
   "pygments_lexer": "ipython3",
   "version": "3.9.1"
  }
 },
 "nbformat": 4,
 "nbformat_minor": 2
}
