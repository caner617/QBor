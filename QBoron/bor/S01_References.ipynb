{
 "cells": [
  {
   "cell_type": "markdown",
   "metadata": {},
   "source": [
    "<table><tr>\n",
    "    <td  style=\"background-color:#ffffff;text-align:left;\"><a href=\"http://qworld.lu.lv\" target=\"_blank\"><img src=\"../images\\qworld.jpg\" width=\"30%\" align=\"left\"></a></td>\n",
    "    <td style=\"background-color:#ffffff;\">&nbsp;</td>\n",
    "    <td style=\"background-color:#ffffff;vertical-align:text-middle;text-align:right;\">\n",
    "        <table><tr style=\"background-color:white;\">\n",
    "            <td> Visit</td>\n",
    "            <td><a href=\"http://qworld.lu.lv\" target=\"_blank\"><img src=\"../images/web-logo.png\" width=\"35px\"></a></td>\n",
    "            <td width=\"10pt\"></td>\n",
    "            <td> Join</td>\n",
    "            <td><a href=\"https://qworldworkspace.slack.com/\" target=\"_blank\"><img src=\"../images/slack-icon.png\" width=\"80px\"></a></td>\n",
    "            <td width=\"10pt\"></td>\n",
    "            <td>Follow</td>\n",
    "            <td><a href=\"https://www.facebook.com/qworld19/\" target=\"_blank\"><img src=\"../images/facebook-icon.png\" width=\"40px\"></a></td>\n",
    "            <td><a href=\"https://twitter.com/QWorld19\" target=\"_blank\"><img src=\"../images/twitter-icon.png\" width=\"40px\"></a></td>\n",
    "        </tr></table>\n",
    "    </td>     \n",
    "</tr></table>"
   ]
  },
  {
   "cell_type": "markdown",
   "metadata": {},
   "source": [
    "\n",
    "####  References\n",
    "\n",
    "- First image of complex numbers in notebook S02_Complex_Number_Basics.ipynb is taken from https://brilliant.org/wiki/complex-numbers/\n",
    "\n",
    "The following references are used for the sections on Fourier Transforms and Permutation Algorithm.\n",
    "\n",
    "- Nielsen, Michael A., and Isaac Chuang. \"Quantum computation and quantum information.\" (2002): 558-559.\n",
    "\n",
    "- Kaye, Phillip, Raymond Laflamme, and Michele Mosca. An introduction to quantum computing. Oxford university press, 2007.\n",
    "\n",
    "- [Computational speed-up with a single qudit](https://arxiv.org/pdf/1403.5861.pdf) by Zafer Gedik\n",
    "\n",
    "- [Optimization and experimental realization of the quantum permutation algorithm](https://arxiv.org/pdf/1708.07900.pdf) by İskender Yalçınkaya and Zafer Gedik. "
   ]
  }
 ],
 "metadata": {
  "kernelspec": {
   "display_name": "Python 3",
   "language": "python",
   "name": "python3"
  },
  "language_info": {
   "codemirror_mode": {
    "name": "ipython",
    "version": 3
   },
   "file_extension": ".py",
   "mimetype": "text/x-python",
   "name": "python",
   "nbconvert_exporter": "python",
   "pygments_lexer": "ipython3",
   "version": "3.9.1"
  }
 },
 "nbformat": 4,
 "nbformat_minor": 2
}
