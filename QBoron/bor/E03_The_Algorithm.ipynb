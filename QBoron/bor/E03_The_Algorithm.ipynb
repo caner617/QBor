{
 "cells": [
  {
   "cell_type": "markdown",
   "metadata": {},
   "source": [
    "<table  align=\"left\" width=\"100%\"> <tr>\n",
    "        <td  style=\"background-color:#ffffff;\"><a href=\"https://qsoftware.lu.lv/index.php/qworld/\" target=\"_blank\"><img src=\"..\\images\\qworld.jpg\" width=\"35%\" align=\"left\"></a></td>\n",
    "        <td  align=\"right\" style=\"background-color:#ffffff;vertical-align:bottom;horizontal-align:right\">\n",
    "            prepared by Caner ERCAN (<a href=\"http://qworld.lu.lv/index.php/qturkey/\" target=\"_blank\">QTurkey</a>)\n",
    "        </td>        \n",
    "</tr></table>"
   ]
  },
  {
   "cell_type": "markdown",
   "metadata": {},
   "source": [
    "<table width=\"100%\"><tr><td style=\"color:#bbbbbb;background-color:#ffffff;font-size:11px;font-style:italic;text-align:right;\">This cell contains some macros. If there is a problem with displaying mathematical formulas, please run this cell to load these macros. </td></tr></table>\n",
    "$ \\newcommand{\\bra}[1]{\\langle #1|} $\n",
    "$ \\newcommand{\\ket}[1]{|#1\\rangle} $\n",
    "$ \\newcommand{\\braket}[2]{\\langle #1|#2\\rangle} $\n",
    "$ \\newcommand{\\dot}[2]{ #1 \\cdot #2} $\n",
    "$ \\newcommand{\\biginner}[2]{\\left\\langle #1,#2\\right\\rangle} $\n",
    "$ \\newcommand{\\mymatrix}[2]{\\left( \\begin{array}{#1} #2\\end{array} \\right)} $\n",
    "$ \\newcommand{\\myvector}[1]{\\mymatrix{c}{#1}} $\n",
    "$ \\newcommand{\\myrvector}[1]{\\mymatrix{r}{#1}} $\n",
    "$ \\newcommand{\\mypar}[1]{\\left( #1 \\right)} $\n",
    "$ \\newcommand{\\mybigpar}[1]{ \\Big( #1 \\Big)} $\n",
    "$ \\newcommand{\\sqrttwo}{\\frac{1}{\\sqrt{2}}} $\n",
    "$ \\newcommand{\\dsqrttwo}{\\dfrac{1}{\\sqrt{2}}} $\n",
    "$ \\newcommand{\\onehalf}{\\frac{1}{2}} $\n",
    "$ \\newcommand{\\donehalf}{\\dfrac{1}{2}} $\n",
    "$ \\newcommand{\\hadamard}{ \\mymatrix{rr}{ \\sqrttwo & \\sqrttwo \\\\ \\sqrttwo & -\\sqrttwo }} $\n",
    "$ \\newcommand{\\vzero}{\\myvector{1\\\\0}} $\n",
    "$ \\newcommand{\\vone}{\\myvector{0\\\\1}} $\n",
    "$ \\newcommand{\\stateplus}{\\myvector{ \\sqrttwo \\\\  \\sqrttwo } } $\n",
    "$ \\newcommand{\\stateminus}{ \\myrvector{ \\sqrttwo \\\\ -\\sqrttwo } } $\n",
    "$ \\newcommand{\\myarray}[2]{ \\begin{array}{#1}#2\\end{array}} $\n",
    "$ \\newcommand{\\X}{ \\mymatrix{cc}{0 & 1 \\\\ 1 & 0}  } $\n",
    "$ \\newcommand{\\Z}{ \\mymatrix{rr}{1 & 0 \\\\ 0 & -1}  } $\n",
    "$ \\newcommand{\\Htwo}{ \\mymatrix{rrrr}{ \\frac{1}{2} & \\frac{1}{2} & \\frac{1}{2} & \\frac{1}{2} \\\\ \\frac{1}{2} & -\\frac{1}{2} & \\frac{1}{2} & -\\frac{1}{2} \\\\ \\frac{1}{2} & \\frac{1}{2} & -\\frac{1}{2} & -\\frac{1}{2} \\\\ \\frac{1}{2} & -\\frac{1}{2} & -\\frac{1}{2} & \\frac{1}{2} } } $\n",
    "$ \\newcommand{\\CNOT}{ \\mymatrix{cccc}{1 & 0 & 0 & 0 \\\\ 0 & 1 & 0 & 0 \\\\ 0 & 0 & 0 & 1 \\\\ 0 & 0 & 1 & 0} } $\n",
    "$ \\newcommand{\\norm}[1]{ \\left\\lVert #1 \\right\\rVert } $\n",
    "$ \\newcommand{\\pstate}[1]{ \\lceil \\mspace{-1mu} #1 \\mspace{-1.5mu} \\rfloor } $"
   ]
  },
  {
   "cell_type": "markdown",
   "metadata": {},
   "source": [
    "<h2> The Algorithm </h2>"
   ]
  },
  {
   "cell_type": "markdown",
   "metadata": {},
   "source": [
    "With this notebook, we are moving to the Quantum Permutation Algoritm(QPA) itself. It's also known as Gedik's Algorithm or Parity Determining Algorithm. How simple can a quantum algorithm be? Or, what is the smallest quantum circuit that can be solve a problem faster than its corresponding classical algorithm? That is what is QPA! The algorithm does not use entanglement as a source unlike the others quantum algorithms.\n",
    "\n"
   ]
  },
  {
   "cell_type": "markdown",
   "metadata": {},
   "source": [
    "<img src=\"../images/a_circuit_without_uft.png\" width=\"50%\" align=\"middle\">"
   ]
  },
  {
   "cell_type": "markdown",
   "metadata": {},
   "source": [
    "<img src=\"../images/a_circuit_parted.png\" width=\"75%\" align=\"middle\">"
   ]
  },
  {
   "cell_type": "markdown",
   "metadata": {},
   "source": [
    "<img src=\"../images/a_circuit_with_only_uft.png\" width=\"50%\" align=\"middle\">"
   ]
  },
  {
   "cell_type": "markdown",
   "metadata": {},
   "source": [
    "<img src=\"../images/a_circuit_with_only_ufk.png\" width=\"50%\" align=\"middle\">"
   ]
  },
  {
   "cell_type": "markdown",
   "metadata": {},
   "source": [
    "<img src=\"../images/a_circuit_with_only_iuft.png\" width=\"50%\" align=\"middle\">"
   ]
  },
  {
   "cell_type": "markdown",
   "metadata": {},
   "source": [
    "<img src=\"../images/a_circuit_with_uft.png\" width=\"75%\" align=\"middle\">"
   ]
  },
  {
   "cell_type": "markdown",
   "metadata": {},
   "source": [
    "$$ U_{FT} = \\frac{1}{\\sqrt{3}}\\mymatrix{rrr}{e^{i\\frac{2\\pi}{3}} & 1 & e^{-i\\frac{2\\pi}{3}}\\\\ \n",
    "                   1 & 1 & 1 \\\\ \n",
    "                   e^{-i\\frac{2\\pi}{3}} & 1 & e^{i\\frac{2\\pi}{3}}}$$\n",
    "                  "
   ]
  },
  {
   "cell_type": "markdown",
   "metadata": {},
   "source": [
    "$$ U_{FT} = \\frac{1}{\\sqrt{3}}\\mymatrix{rrr}{1 & 1 & 1\\\\ \n",
    "                   1 & e^{i\\frac{2\\pi}{3}} & e^{-i\\frac{2\\pi}{3}} \\\\ \n",
    "                   1 & e^{-i\\frac{2\\pi}{3}} & e^{i\\frac{2\\pi}{3}}}$$\n",
    "                   \n",
    "$$ U_{FT}^\\dagger = \\frac{1}{\\sqrt{3}}\\mymatrix{rrr}{1 & 1 & 1\\\\ \n",
    "                   1 & e^{-i\\frac{2\\pi}{3}} & e^{i\\frac{2\\pi}{3}} \\\\ \n",
    "                   1 & e^{i\\frac{2\\pi}{3}} & e^{-i\\frac{2\\pi}{3}}}$$"
   ]
  },
  {
   "cell_type": "markdown",
   "metadata": {},
   "source": [
    "$${U_f}_1=\\mymatrix{rrrrr}{1 & 0 & 0\\\\ \n",
    "                   0 & 1 & 0 \\\\\n",
    "                    0 & 0 & 1}\n",
    "{U_f}_2=\\mymatrix{rrrrr}{0 & 0 & 1\\\\ \n",
    "                   1 & 0 & 0 \\\\\n",
    "                    0 & 1 & 0}\n",
    "{U_f}_3=\\mymatrix{rrrrr}{0 & 1 & 0\\\\ \n",
    "                   0 & 0 & 1 \\\\\n",
    "                    1 & 0 & 0}$$\n",
    "\n",
    "$${U_f}_4=\\mymatrix{rrrrr}{0 & 0 & 1\\\\ \n",
    "                   0 & 1 & 0 \\\\\n",
    "                    1 & 0 & 0}\n",
    "{U_f}_5=\\mymatrix{rrrrr}{0 & 1 & 0\\\\ \n",
    "                   1 & 0 & 0 \\\\\n",
    "                    0 & 0 & 1}\n",
    "{U_f}_6=\\mymatrix{rrrrr}{1 & 0 & 0\\\\ \n",
    "                   0 & 0 & 1 \\\\\n",
    "                    0 & 1 & 0}$$"
   ]
  },
  {
   "cell_type": "markdown",
   "metadata": {},
   "source": [
    "$$ \\ket{1} = \\myvector{0 \\\\ 1 \\\\ 0} \\ket{\\Psi_{2}} = \\frac{1}{\\sqrt{3}}\\myvector{1 \\\\ e^{i\\frac{2\\pi}{3}} \\\\ e^{-i\\frac{2\\pi}{3}}} $$.\n",
    "\n",
    "$$ \\ket{2} = \\myvector{0 \\\\ 0 \\\\ 1} \\ket{\\Psi_{5}} = \\frac{1}{\\sqrt{3}}\\myvector{1 \\\\ e^{-i\\frac{2\\pi}{3}} \\\\ e^{i\\frac{2\\pi}{3}}} $$"
   ]
  },
  {
   "cell_type": "markdown",
   "metadata": {},
   "source": [
    "$$\\sin{\\frac{2\\pi}{3}}=\\frac{\\sqrt{3}}{2} ~~~~~~ \\cos{\\frac{2\\pi}{3}}=-\\frac{1}{2}$$\n",
    "\n",
    "$$\\sin{\\frac{4\\pi}{3}}=-\\frac{\\sqrt{3}}{2} ~~~~~~ \\cos{\\frac{4\\pi}{3}}=-\\frac{1}{2}$$"
   ]
  },
  {
   "cell_type": "markdown",
   "metadata": {},
   "source": [
    "$U_{FT}^\\dagger{U_f}_2 U_{FT}\\ket{1}=?$\n",
    "\n",
    "$U_{FT}\\ket{1} = \\frac{1}{\\sqrt{3}}\\mymatrix{rrr}{1 & 1 & 1\\\\ \n",
    "                   1 & e^{i\\frac{2\\pi}{3}} & e^{-i\\frac{2\\pi}{3}} \\\\ \n",
    "                   1 & e^{-i\\frac{2\\pi}{3}} & e^{i\\frac{2\\pi}{3}}} \\myvector{0 \\\\ 1 \\\\ 0} = \\frac{1}{\\sqrt{3}}\\myvector{1 \\\\ e^{i\\frac{2\\pi}{3}} \\\\ e^{-i\\frac{2\\pi}{3}}} = \\ket{\\Psi_{1}}$ \n",
    "\n",
    "${U_f}_2 U_{FT}\\ket{1}=\\mymatrix{rrrrr}{0 & 0 & 1\\\\ \n",
    "                   1 & 0 & 0 \\\\\n",
    "                    0 & 1 & 0} \\frac{1}{\\sqrt{3}}\\myvector{1 \\\\ e^{i\\frac{2\\pi}{3}} \\\\ e^{-i\\frac{2\\pi}{3}}}=\\frac{1}{\\sqrt{3}}\\myvector{e^{-i\\frac{2\\pi}{3}} \\\\ 1 \\\\ e^{i\\frac{2\\pi}{3}}}=\\ket{\\Psi_{3}}=e^{-i\\frac{2\\pi}{3}}\\ket{\\Psi_{1}}$"
   ]
  },
  {
   "cell_type": "markdown",
   "metadata": {},
   "source": [
    "$U_{FT}^\\dagger{U_f}_2 U_{FT}\\ket{1}=\n",
    "\\frac{1}{\\sqrt{3}}\\mymatrix{rrr}{1 & 1 & 1\\\\ \n",
    "                   1 & e^{-i\\frac{2\\pi}{3}} & e^{i\\frac{2\\pi}{3}} \\\\ \n",
    "                   1 & e^{i\\frac{2\\pi}{3}} & e^{-i\\frac{2\\pi}{3}}} \\frac{e^{-i\\frac{2\\pi}{3}}}{\\sqrt{3}}\\myvector{1 \\\\ e^{i\\frac{2\\pi}{3}} \\\\ e^{-i\\frac{2\\pi}{3}}} =\n",
    "                   \\frac{e^{-i\\frac{2\\pi}{3}}}{3}\\myvector{1 + e^{-i\\frac{2\\pi}{3}} + e^{i\\frac{2\\pi}{3}} \\\\ 1+ e^{-i\\frac{2\\pi}{3}}e^{i\\frac{2\\pi}{3}} + e^{i\\frac{2\\pi}{3}}e^{-i\\frac{2\\pi}{3}} \\\\ 1 + e^{i\\frac{2\\pi}{3}}e^{-i\\frac{2\\pi}{3}} + e^{-i\\frac{2\\pi}{3}}e^{i\\frac{2\\pi}{3}}}=\n",
    "                   \\frac{e^{-i\\frac{2\\pi}{3}}}{3}\\myvector{1 + (\\cos{\\frac{2\\pi}{3}} +i\\sin{\\frac{2\\pi}{3}}) + (\\cos{\\frac{2\\pi}{3}} - i\\sin{\\frac{2\\pi}{3}}) \\\\ 1 + 1 + 1 \\\\ 1 + (\\cos{\\frac{4\\pi}{3}} + i\\sin{\\frac{4\\pi}{3}}) +(\\cos{\\frac{4\\pi}{3}} -i\\sin{\\frac{4\\pi}{3}}) } $ \n",
    "\n",
    "\n",
    "$= \\frac{e^{-i\\frac{2\\pi}{3}}}{3}\\myvector{1 -\\frac{1}{2} + i\\frac{\\sqrt{3}}{2} -\\frac{1}{2} - i\\frac{\\sqrt{3}}{2}   \\\\ 3 \\\\ 1 -\\frac{1}{2} -i\\frac{\\sqrt{3}}{2} -\\frac{1}{2} +i\\frac{\\sqrt{3}}{2}}= \n",
    "                   \\frac{e^{-i\\frac{2\\pi}{3}}}{3}\\myvector{0 \\\\ 3 \\\\ 0} = e^{-i\\frac{2\\pi}{3}}\\myvector{0 \\\\ 1 \\\\ 0} = e^{-i\\frac{2\\pi}{3}}\\ket{1}$ $\\checkmark$ &nbsp; Yes, it should be **even**. "
   ]
  },
  {
   "cell_type": "markdown",
   "metadata": {},
   "source": []
  },
  {
   "cell_type": "markdown",
   "metadata": {},
   "source": [
    "$U_{FT}^\\dagger{U_f}_5 U_{FT}\\ket{1}=?$\n",
    "\n",
    "$U_{FT}\\ket{1} = \\frac{1}{\\sqrt{3}}\\mymatrix{rrr}{1 & 1 & 1\\\\ \n",
    "                   1 & e^{\\frac{2\\pi i}{3}} & e^{\\frac{-2\\pi i}{3}} \\\\ \n",
    "                   1 & e^{\\frac{-2\\pi i}{3}} & e^{\\frac{2\\pi i}{3}}} \\myvector{0 \\\\ 1 \\\\ 0} = \\frac{1}{\\sqrt{3}}\\myvector{1 \\\\ e^{\\frac{2\\pi i}{3}} \\\\ e^{\\frac{-2\\pi i}{3}}} = \\ket{\\Psi_{1}}$ \n",
    "\n",
    "${U_f}_5 U_{FT}\\ket{1}= \\mymatrix{rrrrr}{0 & 1 & 0\\\\ \n",
    "                   1 & 0 & 0 \\\\\n",
    "                    0 & 0 & 1} \\frac{1}{\\sqrt{3}}\\myvector{1 \\\\ e^{\\frac{2\\pi i}{3}} \\\\ e^{\\frac{-2\\pi i}{3}}}=\\frac{1}{\\sqrt{3}}\\myvector{e^{\\frac{2\\pi i}{3}} \\\\ 1 \\\\ e^{\\frac{-2\\pi i}{3}}}=\\ket{\\Psi_{5}}=e^{\\frac{2\\pi i}{3}}\\ket{\\Psi_{6}}$"
   ]
  },
  {
   "cell_type": "markdown",
   "metadata": {},
   "source": [
    "$U_{FT}^\\dagger{U_f}_5 U_{FT}\\ket{1}=\n",
    "\\frac{1}{\\sqrt{3}}\\mymatrix{rrr}{1 & 1 & 1\\\\ \n",
    "                   1 & e^{-i\\frac{2\\pi }{3}} & e^{i\\frac{2\\pi }{3}} \\\\ \n",
    "                   1 & e^{i\\frac{2\\pi }{3}} & e^{-i\\frac{2\\pi }{3}}} \\frac{e^{-i\\frac{2\\pi }{3}}}{\\sqrt{3}}\\myvector{1 \\\\ e^{-i\\frac{2\\pi}{3}} \\\\ e^{i\\frac{2\\pi}{3}}} =\n",
    "                   \\frac{e^{-i\\frac{2\\pi}{3}}}{3}\\myvector{1 + e^{-i\\frac{2\\pi}{3}} + e^{i\\frac{2\\pi}{3}} \\\\ 1 + e^{-i\\frac{2\\pi}{3}}e^{-i\\frac{2\\pi}{3}} + e^{i\\frac{2\\pi}{3}}e^{i\\frac{2\\pi}{3}} \\\\1+ e^{-i\\frac{2\\pi}{3}}e^{i\\frac{2\\pi}{3}} + e^{-i\\frac{2\\pi}{3}}e^{i\\frac{2\\pi}{3}} }$\n",
    "\n",
    "$=\\frac{e^{i\\frac{-2\\pi}{3}}}{3}\\myvector{1 + (\\cos{\\frac{2\\pi}{3}} +i\\sin{\\frac{2\\pi}{3}}) + (\\cos{\\frac{2\\pi}{3}} - i\\sin{\\frac{2\\pi}{3}}) \\\\ 1 + (\\cos{\\frac{4\\pi}{3}} -i\\sin{\\frac{4\\pi}{3}})+(\\cos{\\frac{4\\pi}{3}} + i\\sin{\\frac{4\\pi}{3}}) \\\\ 1 + 1 + 1 } $ \n",
    "\n",
    "\n",
    "$= \\frac{e^{-i\\frac{2\\pi}{3}}}{3}\\myvector{1 -\\frac{1}{2} - i\\frac{\\sqrt{3}}{2} -\\frac{1}{2} + i\\frac{\\sqrt{3}}{2}   \\\\ 1 -\\frac{1}{2} +i\\frac{\\sqrt{3}}{2} -\\frac{1}{2} -i\\frac{\\sqrt{3}}{2} \\\\ 3}= \n",
    "                   \\frac{e^{-i\\frac{2\\pi}{3}}}{3}\\myvector{0 \\\\ 0 \\\\ 3} = e^{-i\\frac{2\\pi}{3}}\\myvector{0 \\\\ 0 \\\\ 1} = e^{-i\\frac{2\\pi}{3}}\\ket{2}$ $\\checkmark$ &nbsp; Yes, it already should be **odd**. "
   ]
  },
  {
   "cell_type": "markdown",
   "metadata": {},
   "source": [
    "<h3>Task 1 (on paper)</h3>\n",
    "\n",
    "$U_{FT}^\\dagger{U_f}_1 U_{FT}\\ket{1}=?$\n",
    "\n",
    "                    \n",
    "<a href=\"E03_The_Algorithm_Solutions.ipynb#task1\">click for our solution</a>"
   ]
  },
  {
   "cell_type": "markdown",
   "metadata": {},
   "source": [
    "<h3>Task 2 (on paper)</h3>\n",
    "\n",
    "$U_{FT}^\\dagger{U_f}_4 U_{FT}\\ket{1}=?$\n",
    "\n",
    "                    \n",
    "<a href=\"E03_The_Algorithm_Solutions.ipynb#task2\">click for our solution</a>"
   ]
  },
  {
   "cell_type": "markdown",
   "metadata": {},
   "source": [
    "<h3>Task 3 (on paper)</h3>\n",
    "\n",
    "Please, apply the same gates, for $\\ket{0}$ and evaluate the output. Is it useful for this problem?:\n",
    "\n",
    "<img src=\"../images/a_circuit_for_task_1.png\" width=\"50%\" align=\"middle\">\n",
    "                    \n",
    "<a href=\"E03_The_Algorithm_Solutions.ipynb#task3\">click for our solution</a>"
   ]
  },
  {
   "cell_type": "markdown",
   "metadata": {},
   "source": [
    "${U_f}_k$"
   ]
  },
  {
   "cell_type": "markdown",
   "metadata": {},
   "source": [
    "<font color=\"red\"> !not ready yet! </font> \n",
    "<h2> Recap </h2>\n",
    "\n",
    "<i>What have we learned so far?</i>\n",
    "<ul>\n",
    "    <li> A quantum state can be represented by a 3x1 vector, in which each entry can be zero, a positive value, or a negative value. </li>\n",
    "    <li> We can also say that the amplitude of being in any state can be zero, a positive value, or a negative value. </li>\n",
    "    <li> The probability of observing one state after measurement is the square of its amplitude. </li>\n",
    "</ul>\n",
    "\n",
    "<i>What else can we say?</i>\n",
    "\n",
    "Can the entries of a quantum state be arbitrary?\n",
    "\n",
    "Do you remember the properties of a probabilistic state?\n",
    "\n",
    "<font color=\"red\"> !not ready yet! </font> "
   ]
  },
  {
   "cell_type": "markdown",
   "metadata": {},
   "source": [
    "---\n",
    "**[1]**\n"
   ]
  }
 ],
 "metadata": {
  "kernelspec": {
   "display_name": "Python 3",
   "language": "python",
   "name": "python3"
  },
  "language_info": {
   "codemirror_mode": {
    "name": "ipython",
    "version": 3
   },
   "file_extension": ".py",
   "mimetype": "text/x-python",
   "name": "python",
   "nbconvert_exporter": "python",
   "pygments_lexer": "ipython3",
   "version": "3.9.1"
  }
 },
 "nbformat": 4,
 "nbformat_minor": 2
}
