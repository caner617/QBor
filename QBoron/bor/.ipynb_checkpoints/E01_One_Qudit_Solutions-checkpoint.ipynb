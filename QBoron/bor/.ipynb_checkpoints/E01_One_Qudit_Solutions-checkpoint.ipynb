{
 "cells": [
  {
   "cell_type": "markdown",
   "metadata": {},
   "source": [
    "<table  align=\"left\" width=\"100%\"> <tr>\n",
    "        <td  style=\"background-color:#ffffff;\"><a href=\"https://qsoftware.lu.lv/index.php/qworld/\" target=\"_blank\"><img src=\"..\\images\\qworld.jpg\" width=\"35%\" align=\"left\"></a></td>\n",
    "        <td  align=\"right\" style=\"background-color:#ffffff;vertical-align:bottom;horizontal-align:right\">\n",
    "            prepared by Caner ERCAN (<a href=\"http://qworld.lu.lv/index.php/qturkey/\" target=\"_blank\">QTurkey</a>)\n",
    "        </td>        \n",
    "</tr></table>"
   ]
  },
  {
   "cell_type": "markdown",
   "metadata": {},
   "source": [
    "<table width=\"100%\"><tr><td style=\"color:#bbbbbb;background-color:#ffffff;font-size:11px;font-style:italic;text-align:right;\">This cell contains some macros. If there is a problem with displaying mathematical formulas, please run this cell to load these macros. </td></tr></table>\n",
    "$ \\newcommand{\\bra}[1]{\\langle #1|} $\n",
    "$ \\newcommand{\\ket}[1]{|#1\\rangle} $\n",
    "$ \\newcommand{\\braket}[2]{\\langle #1|#2\\rangle} $\n",
    "$ \\newcommand{\\dot}[2]{ #1 \\cdot #2} $\n",
    "$ \\newcommand{\\biginner}[2]{\\left\\langle #1,#2\\right\\rangle} $\n",
    "$ \\newcommand{\\mymatrix}[2]{\\left( \\begin{array}{#1} #2\\end{array} \\right)} $\n",
    "$ \\newcommand{\\myvector}[1]{\\mymatrix{c}{#1}} $\n",
    "$ \\newcommand{\\myrvector}[1]{\\mymatrix{r}{#1}} $\n",
    "$ \\newcommand{\\mypar}[1]{\\left( #1 \\right)} $\n",
    "$ \\newcommand{\\mybigpar}[1]{ \\Big( #1 \\Big)} $\n",
    "$ \\newcommand{\\sqrttwo}{\\frac{1}{\\sqrt{2}}} $\n",
    "$ \\newcommand{\\dsqrttwo}{\\dfrac{1}{\\sqrt{2}}} $\n",
    "$ \\newcommand{\\onehalf}{\\frac{1}{2}} $\n",
    "$ \\newcommand{\\donehalf}{\\dfrac{1}{2}} $\n",
    "$ \\newcommand{\\hadamard}{ \\mymatrix{rr}{ \\sqrttwo & \\sqrttwo \\\\ \\sqrttwo & -\\sqrttwo }} $\n",
    "$ \\newcommand{\\vzero}{\\myvector{1\\\\0}} $\n",
    "$ \\newcommand{\\vone}{\\myvector{0\\\\1}} $\n",
    "$ \\newcommand{\\stateplus}{\\myvector{ \\sqrttwo \\\\  \\sqrttwo } } $\n",
    "$ \\newcommand{\\stateminus}{ \\myrvector{ \\sqrttwo \\\\ -\\sqrttwo } } $\n",
    "$ \\newcommand{\\myarray}[2]{ \\begin{array}{#1}#2\\end{array}} $\n",
    "$ \\newcommand{\\X}{ \\mymatrix{cc}{0 & 1 \\\\ 1 & 0}  } $\n",
    "$ \\newcommand{\\Z}{ \\mymatrix{rr}{1 & 0 \\\\ 0 & -1}  } $\n",
    "$ \\newcommand{\\Htwo}{ \\mymatrix{rrrr}{ \\frac{1}{2} & \\frac{1}{2} & \\frac{1}{2} & \\frac{1}{2} \\\\ \\frac{1}{2} & -\\frac{1}{2} & \\frac{1}{2} & -\\frac{1}{2} \\\\ \\frac{1}{2} & \\frac{1}{2} & -\\frac{1}{2} & -\\frac{1}{2} \\\\ \\frac{1}{2} & -\\frac{1}{2} & -\\frac{1}{2} & \\frac{1}{2} } } $\n",
    "$ \\newcommand{\\CNOT}{ \\mymatrix{cccc}{1 & 0 & 0 & 0 \\\\ 0 & 1 & 0 & 0 \\\\ 0 & 0 & 0 & 1 \\\\ 0 & 0 & 1 & 0} } $\n",
    "$ \\newcommand{\\norm}[1]{ \\left\\lVert #1 \\right\\rVert } $\n",
    "$ \\newcommand{\\pstate}[1]{ \\lceil \\mspace{-1mu} #1 \\mspace{-1.5mu} \\rfloor } $"
   ]
  },
  {
   "cell_type": "markdown",
   "metadata": {},
   "source": [
    "<h1> <font color=\"blue\"> Solutions for </font> One Qudit and One Qutrit</h1>"
   ]
  },
  {
   "cell_type": "markdown",
   "metadata": {},
   "source": [
    "<h3>Task 1 (on paper)</h3>\n",
    "<a id=\"task1\"></a>\n",
    "\n",
    "Please, to convince yourself this statement, convert the numbers that have written in binary or ternany to decimal: \n",
    "\n",
    "a) $010_{3} = ?_{10}$ \n",
    "\n",
    "b) $010_{2} = ?_{10}$ \n",
    "\n",
    "c) $011_{2} = ?_{10}$"
   ]
  },
  {
   "cell_type": "markdown",
   "metadata": {},
   "source": [
    "<h3>Solution </h3>"
   ]
  },
  {
   "cell_type": "markdown",
   "metadata": {},
   "source": [
    "a) $010_{2} = $$ \\sum_{j=0}x_j2^{j}$$ = 0.2^2+1.2^1+0.2^0 = 2_{10}$ \n",
    "\n",
    "b) $011_{2} = $$ \\sum_{j=0}x_j2^{j}$$ = 0.2^2+1.2^1+1.2^0 =3_{10}$\n",
    "\n",
    "c) $010_{3} = $$ \\sum_{j=0}x_j3^{j}$$ = 0.3^2+1.3^1+0.3^0 = 3_{10}$ "
   ]
  },
  {
   "cell_type": "markdown",
   "metadata": {},
   "source": [
    "<a id=\"task2\"></a>\n",
    "\n",
    "<h3>Task 2 (on paper)</h3>\n",
    "\n",
    "Please, to convince yourself this statement, convert the numbers that have written in decimal to binary or ternary: \n",
    "\n",
    "a) $5_{10} = ???_{2}$ \n",
    "\n",
    "b) $5_{10} = ???_{3}$ \n",
    "\n",
    "c) $29_{10} = ???_{3}$"
   ]
  },
  {
   "cell_type": "markdown",
   "metadata": {},
   "source": [
    "<h3>Solution </h3>"
   ]
  },
  {
   "cell_type": "markdown",
   "metadata": {},
   "source": [
    "a) $5_{10} = $$ \\sum_{j=0}x_j2^{j}$$ = 1.2^2+0.2^1+1.2^0 = 101_{2}$ \n",
    "\n",
    "b) $5_{10} = $$ \\sum_{j=0}x_j2^{j}$$ = 0.3^2+1.3^1+2.3^0 = 012_{3}$ \n",
    "\n",
    "c) $29_{10} = $$ \\sum_{j=0}x_j2^{j}$$ = 3.3^2+0.3^1+2.3^0 = 302_{3}$"
   ]
  },
  {
   "cell_type": "markdown",
   "metadata": {},
   "source": [
    "<a id=\"task3\"></a>\n",
    "\n",
    "<h3>Task 3 (on paper)</h3>\n",
    "\n",
    "Please, apply the X-gate for 3-dimension to all of qutrit states. "
   ]
  },
  {
   "cell_type": "markdown",
   "metadata": {},
   "source": [
    "<h3>Solution </h3>\n",
    "\n",
    "The action of $ X $ on the qutrit:\n",
    "\n",
    "* $ X_{3} \\ket{0} = \\ket{1} $ \n",
    "\n",
    "    More explicitly, $ X_{3} \\ket{0}  = \\mymatrix{rrr}{0 & 0 & 1\\\\ \n",
    "                   1 & 0 & 0 \\\\ \n",
    "                   0 & 1 & 0} \\myvector{1 \\\\ 0 \\\\ 0} = \\myvector{0 \\\\ 1 \\\\ 0} = \\ket{1}$\n",
    "\n",
    "* $ X_{3} \\ket{1} = \\ket{2} $\n",
    "\n",
    "    More explicitly, $ X_{3} \\ket{1}  = \\mymatrix{rrr}{0 & 0 & 1\\\\ \n",
    "                   1 & 0 & 0 \\\\ \n",
    "                   0 & 1 & 0} \\myvector{0 \\\\ 1 \\\\ 0} = \\myvector{0 \\\\ 0 \\\\ 1} = \\ket{2}$\n",
    "\n",
    "* $ X_{3} \\ket{2} = \\ket{0} $\n",
    "\n",
    "    More explicitly, $ X_{3} \\ket{2}  = \\mymatrix{rrr}{0 & 0 & 1\\\\ \n",
    "                   1 & 0 & 0 \\\\ \n",
    "                   0 & 1 & 0} \\myvector{0 \\\\ 0 \\\\ 1} = \\myvector{1 \\\\ 0 \\\\ 0} = \\ket{0}$"
   ]
  },
  {
   "cell_type": "markdown",
   "metadata": {},
   "source": [
    "<a id=\"task4\"></a>\n",
    "\n",
    "<h3>Task 4 (on paper)</h3>\n",
    "\n",
    "Please, apply the Z-gate for 3-dimension to all of qutrit states. "
   ]
  },
  {
   "cell_type": "markdown",
   "metadata": {},
   "source": [
    "<h3>Solution </h3>\n",
    "\n",
    "The action of $ X $ on the qutrit:\n",
    "\n",
    "* $ Z_{3} \\ket{0} = \\ket{0} $ \n",
    "\n",
    "    More explicitly, $ Z_{3} \\ket{0}  = \\mymatrix{rrr}{1 & 0 & 0\\\\ \n",
    "                   0 & e^{\\frac{2\\pi i }{3}} & 0\\\\ \n",
    "                   0 & 0 & e^{\\frac{4\\pi i }{3}}} \\myvector{1 \\\\ 0 \\\\ 0} = \\myvector{1 \\\\ 0 \\\\ 0} = \\ket{0}$\n",
    "             \n",
    "\n",
    "    \n",
    "* $ Z_{3} \\ket{1} = e^{\\frac{2\\pi i }{3}}\\ket{1} $\n",
    "\n",
    "    More explicitly, $ Z_{3} \\ket{1}  = \\mymatrix{rrr}{1 & 0 & 0\\\\ \n",
    "                   0 & e^{\\frac{2\\pi i }{3}} & 0\\\\ \n",
    "                   0 & 0 & e^{\\frac{4\\pi i }{3}}} \\myvector{0 \\\\ 1 \\\\ 0} = \\myvector{0 \\\\ e^{\\frac{2\\pi i }{3}} \\\\ 0} = e^{\\frac{2\\pi i }{3}}\\ket{1}$\n",
    "\n",
    "\n",
    "\n",
    "* $ Z_{3} \\ket{2} = e^{\\frac{4\\pi i }{3}}\\ket{2} $\n",
    "\n",
    "    More explicitly, $ Z_{3} \\ket{2}  = \\mymatrix{rrr}{0 & 0 & 1\\\\ \n",
    "                   1 & 0 & 0 \\\\ \n",
    "                   0 & 1 & 0} \\myvector{0 \\\\ 0 \\\\ 1} = \\myvector{0 \\\\ 0 \\\\ e^{\\frac{4\\pi i }{3}}} = e^{\\frac{4\\pi i }{3}}\\ket{2}$"
   ]
  },
  {
   "cell_type": "code",
   "execution_count": null,
   "metadata": {},
   "outputs": [],
   "source": [
    "#\n",
    "#no more answer!\n",
    "#"
   ]
  }
 ],
 "metadata": {
  "kernelspec": {
   "display_name": "Python 3",
   "language": "python",
   "name": "python3"
  },
  "language_info": {
   "codemirror_mode": {
    "name": "ipython",
    "version": 3
   },
   "file_extension": ".py",
   "mimetype": "text/x-python",
   "name": "python",
   "nbconvert_exporter": "python",
   "pygments_lexer": "ipython3",
   "version": "3.9.1"
  }
 },
 "nbformat": 4,
 "nbformat_minor": 2
}
