{
 "cells": [
  {
   "cell_type": "markdown",
   "metadata": {},
   "source": [
    "<table  align=\"left\" width=\"100%\"> <tr>\n",
    "        <td  style=\"background-color:#ffffff;\"><a href=\"https://qsoftware.lu.lv/index.php/qworld/\" target=\"_blank\"><img src=\"..\\images\\qworld.jpg\" width=\"35%\" align=\"left\"></a></td>\n",
    "        <td  align=\"right\" style=\"background-color:#ffffff;vertical-align:bottom;horizontal-align:right\">\n",
    "            prepared by Caner ERCAN (<a href=\"http://qworld.lu.lv/index.php/qturkey/\" target=\"_blank\">QTurkey</a>)\n",
    "        </td>        \n",
    "</tr></table>"
   ]
  },
  {
   "cell_type": "markdown",
   "metadata": {},
   "source": [
    "<table width=\"100%\"><tr><td style=\"color:#bbbbbb;background-color:#ffffff;font-size:11px;font-style:italic;text-align:right;\">This cell contains some macros. If there is a problem with displaying mathematical formulas, please run this cell to load these macros. </td></tr></table>\n",
    "$ \\newcommand{\\bra}[1]{\\langle #1|} $\n",
    "$ \\newcommand{\\ket}[1]{|#1\\rangle} $\n",
    "$ \\newcommand{\\braket}[2]{\\langle #1|#2\\rangle} $\n",
    "$ \\newcommand{\\dot}[2]{ #1 \\cdot #2} $\n",
    "$ \\newcommand{\\biginner}[2]{\\left\\langle #1,#2\\right\\rangle} $\n",
    "$ \\newcommand{\\mymatrix}[2]{\\left( \\begin{array}{#1} #2\\end{array} \\right)} $\n",
    "$ \\newcommand{\\myvector}[1]{\\mymatrix{c}{#1}} $\n",
    "$ \\newcommand{\\myrvector}[1]{\\mymatrix{r}{#1}} $\n",
    "$ \\newcommand{\\mypar}[1]{\\left( #1 \\right)} $\n",
    "$ \\newcommand{\\mybigpar}[1]{ \\Big( #1 \\Big)} $\n",
    "$ \\newcommand{\\sqrttwo}{\\frac{1}{\\sqrt{2}}} $\n",
    "$ \\newcommand{\\dsqrttwo}{\\dfrac{1}{\\sqrt{2}}} $\n",
    "$ \\newcommand{\\onehalf}{\\frac{1}{2}} $\n",
    "$ \\newcommand{\\donehalf}{\\dfrac{1}{2}} $\n",
    "$ \\newcommand{\\hadamard}{ \\mymatrix{rr}{ \\sqrttwo & \\sqrttwo \\\\ \\sqrttwo & -\\sqrttwo }} $\n",
    "$ \\newcommand{\\vzero}{\\myvector{1\\\\0}} $\n",
    "$ \\newcommand{\\vone}{\\myvector{0\\\\1}} $\n",
    "$ \\newcommand{\\stateplus}{\\myvector{ \\sqrttwo \\\\  \\sqrttwo } } $\n",
    "$ \\newcommand{\\stateminus}{ \\myrvector{ \\sqrttwo \\\\ -\\sqrttwo } } $\n",
    "$ \\newcommand{\\myarray}[2]{ \\begin{array}{#1}#2\\end{array}} $\n",
    "$ \\newcommand{\\X}{ \\mymatrix{cc}{0 & 1 \\\\ 1 & 0}  } $\n",
    "$ \\newcommand{\\Z}{ \\mymatrix{rr}{1 & 0 \\\\ 0 & -1}  } $\n",
    "$ \\newcommand{\\Htwo}{ \\mymatrix{rrrr}{ \\frac{1}{2} & \\frac{1}{2} & \\frac{1}{2} & \\frac{1}{2} \\\\ \\frac{1}{2} & -\\frac{1}{2} & \\frac{1}{2} & -\\frac{1}{2} \\\\ \\frac{1}{2} & \\frac{1}{2} & -\\frac{1}{2} & -\\frac{1}{2} \\\\ \\frac{1}{2} & -\\frac{1}{2} & -\\frac{1}{2} & \\frac{1}{2} } } $\n",
    "$ \\newcommand{\\CNOT}{ \\mymatrix{cccc}{1 & 0 & 0 & 0 \\\\ 0 & 1 & 0 & 0 \\\\ 0 & 0 & 0 & 1 \\\\ 0 & 0 & 1 & 0} } $\n",
    "$ \\newcommand{\\norm}[1]{ \\left\\lVert #1 \\right\\rVert } $\n",
    "$ \\newcommand{\\pstate}[1]{ \\lceil \\mspace{-1mu} #1 \\mspace{-1.5mu} \\rfloor } $"
   ]
  },
  {
   "cell_type": "markdown",
   "metadata": {},
   "source": [
    "<h2> One Qudit </h2>"
   ]
  },
  {
   "cell_type": "markdown",
   "metadata": {},
   "source": [
    "Until now, we try to learn that how can we work with qubits, or quantum bits, that have a two possible quantum states. We can generalize this situation. A qudit, or a quantum dit, can have states greater than 2 states unlike a qubit. A **qubit** has 2 dimensions, a **qutrit** has 3 dimensions, a **ququart** has 4 dimensions, and so on, $i.e.^1$ qudits are named specially according to how many quantum level has it. \n",
    "\n",
    "> A **qudit** is a generalization of the qubit to a d-dimensional Hilbert space. \n",
    "\n",
    "To represent an decimal D in a qudit system, one writes D as a power of d: \n",
    "\n",
    "$$ D_{10} = \\sum_{j=0}x_jd^{j} = (x_{d-1}....x_{1}x_{0})_{d}$$\n",
    "\n",
    "The d-nary representation is then $x_nx_{n-1}\\cdots x_1x_0$. These x's can be in one of the integer: $0,1,2,....,d-1$."
   ]
  },
  {
   "cell_type": "markdown",
   "metadata": {},
   "source": [
    "<h3>Task 1 (on paper)</h3>\n",
    "\n",
    "Please, to convince yourself this statement, convert the numbers that have written in binary or ternany to decimal: \n",
    "\n",
    "a) $010_{2} = ?_{10}$ \n",
    "\n",
    "b) $011_{2} = ?_{10}$\n",
    "\n",
    "c) $010_{3} = ?_{10}$ \n",
    "\n",
    "<a href=\"E01_One_Qudit_Solutions.ipynb#task1\">click for our solution</a>\n",
    "\n",
    "<h3>Task 2 (on paper)</h3>\n",
    "\n",
    "Please, to convince yourself this statement, convert the numbers that have written in decimal to binary or ternary: \n",
    "\n",
    "a) $5_{10} = ???_{2}$ \n",
    "\n",
    "b) $5_{10} = ???_{3}$ \n",
    "\n",
    "c) $29_{10} = ???_{3}$\n",
    "\n",
    "<a href=\"E01_One_Qudit_Solutions.ipynb#task2\">click for our solution</a>"
   ]
  },
  {
   "cell_type": "markdown",
   "metadata": {},
   "source": [
    "<h3> Gates for Qudits </h3>\n",
    "\n",
    "Before creating the gates for qudits, let's remember that rule:\n",
    "\n",
    "> Quantum systems are linear systems: \"The quantum states are represented by vectors and quantum operators are represented by matrices. The new quantum states are calculated by corresponding matrix-vector multiplications.\"\n",
    "\n",
    "Let's start with the simplest one. Even if you have a intution a little bit, you can see that the Identity(I) matrix for a d-dimension look like below one: \n",
    "\n",
    "$$ I_{d} = \\mymatrix{rrrrr}{1 & 0 & \\cdots & 0 & 0\\\\ \n",
    "                   0 & 1 & \\cdots & 0 & 0 \\\\ \n",
    "                   0 & 0 & \\cdots  & 0 & 0 \\\\\n",
    "                  \\vdots &  \\vdots &  \\vdots &  \\ddots &  \\vdots \\\\\n",
    "                    0 & 0 & \\cdots & 0 & 1}_{dxd} $$\n",
    "\n",
    "But, generalization NOT(X) and Z gates is not that easy. It is necessary to look what do they perform to quantum states carefully. X-gate is shifting the basis state to the following state and Z-gate is a function that is adding different phase factors to each basis states actually. To convince yourself for these facts, you can check the following equations:"
   ]
  },
  {
   "cell_type": "markdown",
   "metadata": {},
   "source": [
    "<a id=\"1.1\"></a>\n",
    "\n",
    "$$ X_{d}\\ket{j} :=^2 \\ket{(j+1)_{mod(d)}} ~~~~~(1.1)$$\n",
    "\n",
    "$$Z_{d}\\ket{j} := \\omega^j \\ket{j} ~~~~~(1.2)$$\n",
    "\n",
    "$$j \\in {0,1,...,d-1} ~~~~~ and ~~~~~ \\omega = e^{\\frac{2\\pi i}{d}} $$\n",
    "\n"
   ]
  },
  {
   "cell_type": "markdown",
   "metadata": {},
   "source": [
    "and those matrices come under these equations: \n",
    "\n",
    "$$ X_{d} = \\mymatrix{rrrrr}{0 & 0 & \\cdots & 0 & 1\\\\ \n",
    "                   1 & 0 & \\cdots & 0 & 0 \\\\ \n",
    "                   0 & 1 & \\cdots  & 0 & 0 \\\\\n",
    "                  \\vdots &  \\vdots &  \\ddots &  \\vdots &  \\vdots \\\\\n",
    "                    0 & 0 & \\cdots & 1 & 0}_{dxd} \\mbox{ and } Z_{d} = \\mymatrix{rrrrr}{1 & 0 & 0 & \\cdots & 0\\\\ \n",
    "                   0 & \\omega & 0& \\cdots & 0 \\\\ \n",
    "                   0 & 0 & \\omega^2  & \\cdots & 0 \\\\\n",
    "                  \\vdots &  \\vdots &  \\vdots &  \\ddots &  0 \\\\\n",
    "                    0 & 0 & 0& \\cdots & \\omega^{d-1}}_{dxd}  $$"
   ]
  },
  {
   "cell_type": "markdown",
   "metadata": {},
   "source": [
    "<h2> One Qutrit </h2>\n",
    "\n",
    "A qutrit is a unit of quantum computation that has $3$ orthogonal quantum states and can be in a superposition of them. It is analogous to the classical trit, just as the qubit, a quantum particle of two possible states, is analogous to the classical bit. \n",
    "\n",
    "A qubit (quantum bit) has two states: state 0, state 1 and state 2, I say for this material. \n",
    "\n",
    "But this states can be labelled with different ways. For example, state -1, state 0, and state 1 which are the z components $m_{s}$ of a photon that is a spin-1 boson. \n",
    "\n",
    "Qutrit states are also denoted by ket-notation: \n",
    "\n",
    "$ \\ket{0} = \\myvector{1 \\\\ 0 \\\\ 0} $ , $ \\ket{1} = \\myvector{0 \\\\ 1 \\\\ 0} $ and $ \\ket{2} = \\myvector{0 \\\\ 0 \\\\ 1} $."
   ]
  },
  {
   "cell_type": "markdown",
   "metadata": {},
   "source": [
    "<h3> Gates for Qutrits </h3>\n"
   ]
  },
  {
   "cell_type": "markdown",
   "metadata": {},
   "source": [
    "The Identity matrix for the qutrit is: \n",
    "$$ I_{3} = \\mymatrix{rrrrr}{1 & 0 & 0\\\\ \n",
    "                   0 & 1 & 0 \\\\\n",
    "                    0 & 0 & 1} $$\n",
    "                    \n",
    "and according to equations <a href=\"E01_One_Qudit.ipynb#1.1\">(1.1)</a> and <a href=\"E01_One_Qudit.ipynb#1.1\">(1.2)</a>, the matrix representations of X and Z gates for the qutrits are:\n",
    "\n",
    "\n",
    "$$ X_{3} = \\mymatrix{rrr}{0 & 0 & 1\\\\ \n",
    "                   1 & 0 & 0 \\\\ \n",
    "                   0 & 1 & 0} \\mbox{ and } Z_{3} = \\mymatrix{rrr}{1 & 0 & 0\\\\ \n",
    "                   0 & e^{\\frac{2\\pi i }{3}} & 0\\\\ \n",
    "                   0 & 0 & e^{\\frac{4\\pi i }{3}}}  $$"
   ]
  },
  {
   "cell_type": "markdown",
   "metadata": {},
   "source": [
    "<h3> Task 3 (on paper) </h3>\n",
    "\n",
    "Please, apply the X-gate for 3-dimension to all of qutrit states. "
   ]
  },
  {
   "cell_type": "markdown",
   "metadata": {},
   "source": [
    "<a href=\"E01_One_Qudit_Solutions.ipynb#task3\">click for our solution</a>"
   ]
  },
  {
   "cell_type": "markdown",
   "metadata": {},
   "source": [
    "<h3> Task 4 (on paper) </h3>\n",
    "\n",
    "Please, apply the Z-gate for 3-dimension to all of qutrit states. "
   ]
  },
  {
   "cell_type": "markdown",
   "metadata": {},
   "source": [
    "<a href=\"E01_One_Qudit_Solutions.ipynb#task4\">click for our solution</a>"
   ]
  },
  {
   "cell_type": "markdown",
   "metadata": {},
   "source": [
    "<font color=\"red\"> !not ready yet! </font> \n",
    "\n",
    "<h2> Recap </h2>\n",
    "\n",
    "<i>What have we learned so far?</i>\n",
    "<ul>\n",
    "    <li> A quantum state can be represented by a 3x1 vector, in which each entry can be zero, a positive value, or a negative value. </li>\n",
    "    <li> We can also say that the amplitude of being in any state can be zero, a positive value, or a negative value. </li>\n",
    "    <li> The probability of observing one state after measurement is the square of its amplitude. </li>\n",
    "</ul>\n",
    "\n",
    "<i>What else can we say?</i>\n",
    "\n",
    "Can the entries of a quantum state be arbitrary?\n",
    "\n",
    "Do you remember the properties of a probabilistic state?\n",
    "\n",
    "<font color=\"red\"> !not ready yet! </font> "
   ]
  },
  {
   "cell_type": "markdown",
   "metadata": {},
   "source": [
    "---\n",
    "**[1] I.e. is an abbreviation for the Latin phrase id est, which means \"that is.\"**\n",
    "\n",
    "**[2] The symbol “:=“ means “Is defined by…”. For example,** $e^{i \\theta}:= \\cos{\\theta}+i\\sin{\\theta}$\n",
    "\n",
    "\n"
   ]
  }
 ],
 "metadata": {
  "kernelspec": {
   "display_name": "Python 3",
   "language": "python",
   "name": "python3"
  },
  "language_info": {
   "codemirror_mode": {
    "name": "ipython",
    "version": 3
   },
   "file_extension": ".py",
   "mimetype": "text/x-python",
   "name": "python",
   "nbconvert_exporter": "python",
   "pygments_lexer": "ipython3",
   "version": "3.9.1"
  }
 },
 "nbformat": 4,
 "nbformat_minor": 2
}
