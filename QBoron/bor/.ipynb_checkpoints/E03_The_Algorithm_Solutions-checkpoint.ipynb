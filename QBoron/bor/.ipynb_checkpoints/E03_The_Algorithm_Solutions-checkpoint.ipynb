{
 "cells": [
  {
   "cell_type": "markdown",
   "metadata": {},
   "source": [
    "<table  align=\"left\" width=\"100%\"> <tr>\n",
    "        <td  style=\"background-color:#ffffff;\"><a href=\"https://qsoftware.lu.lv/index.php/qworld/\" target=\"_blank\"><img src=\"..\\images\\qworld.jpg\" width=\"35%\" align=\"left\"></a></td>\n",
    "        <td  align=\"right\" style=\"background-color:#ffffff;vertical-align:bottom;horizontal-align:right\">\n",
    "            prepared by Caner ERCAN (<a href=\"http://qworld.lu.lv/index.php/qturkey/\" target=\"_blank\">QTurkey</a>)\n",
    "        </td>        \n",
    "</tr></table>"
   ]
  },
  {
   "cell_type": "markdown",
   "metadata": {},
   "source": [
    "<h1> <font color=\"blue\"> Solutions for </font> The Algorithm</h1>"
   ]
  },
  {
   "cell_type": "markdown",
   "metadata": {},
   "source": [
    "<h3>Task 1 (on paper)</h3>\n",
    "<a id=\"task1\"></a>\n",
    "\n",
    "$U_{FT}^\\dagger{U_f}_1 U_{FT}\\ket{1}=?$"
   ]
  },
  {
   "cell_type": "markdown",
   "metadata": {},
   "source": [
    "<h3>Solution </h3>\n",
    "\n",
    "$U_{FT}^\\dagger{U_f}_1 U_{FT}\\ket{1}=?$\n",
    "\n",
    "$U_{FT}\\ket{1} = \\frac{1}{\\sqrt{3}}\\mymatrix{rrr}{1 & 1 & 1\\\\ \n",
    "                   1 & e^{i\\frac{2\\pi}{3}} & e^{-i\\frac{2\\pi}{3}} \\\\ \n",
    "                   1 & e^{-i\\frac{2\\pi}{3}} & e^{i\\frac{2\\pi}{3}}} \\myvector{0 \\\\ 1 \\\\ 0} = \\frac{1}{\\sqrt{3}}\\myvector{1 \\\\ e^{i\\frac{2\\pi}{3}} \\\\ e^{-i\\frac{2\\pi}{3}}} = \\ket{\\Psi_{1}}$ \n",
    "\n",
    "${U_f}_1 U_{FT}\\ket{1}=\\mymatrix{rrrrr}{1 & 0 & 0\\\\ \n",
    "                   0 & 1 & 0 \\\\\n",
    "                    0 & 0 & 1} \\frac{1}{\\sqrt{3}}\\myvector{1 \\\\ e^{i\\frac{2\\pi}{3}} \\\\ e^{-i\\frac{2\\pi}{3}}}=\\frac{1}{\\sqrt{3}}\\myvector{1 \\\\ e^{i\\frac{2\\pi}{3}} \\\\ e^{-i\\frac{2\\pi}{3}}}=\\ket{\\Psi_{1}}$"
   ]
  },
  {
   "cell_type": "markdown",
   "metadata": {},
   "source": [
    "$U_{FT}^\\dagger{U_f}_1 U_{FT}\\ket{1}=\n",
    "\\frac{1}{\\sqrt{3}}\\mymatrix{rrr}{1 & 1 & 1\\\\ \n",
    "                   1 & e^{-i\\frac{2\\pi}{3}} & e^{i\\frac{2\\pi}{3}} \\\\ \n",
    "                   1 & e^{i\\frac{2\\pi}{3}} & e^{-i\\frac{2\\pi}{3}}} \\frac{1}{\\sqrt{3}}\\myvector{1 \\\\ e^{i\\frac{2\\pi}{3}} \\\\ e^{-i\\frac{2\\pi}{3}}} =\n",
    "                   \\frac{1}{3}\\myvector{1 + e^{-i\\frac{2\\pi}{3}} + e^{i\\frac{2\\pi}{3}} \\\\ 1+ e^{-i\\frac{2\\pi}{3}}e^{i\\frac{2\\pi}{3}} + e^{i\\frac{2\\pi}{3}}e^{-i\\frac{2\\pi}{3}} \\\\ 1 + e^{i\\frac{2\\pi}{3}}e^{-i\\frac{2\\pi}{3}} + e^{-i\\frac{2\\pi}{3}}e^{i\\frac{2\\pi}{3}}}=\n",
    "                   \\frac{1}{3}\\myvector{1 + (\\cos{\\frac{2\\pi}{3}} +i\\sin{\\frac{2\\pi}{3}}) + (\\cos{\\frac{2\\pi}{3}} - i\\sin{\\frac{2\\pi}{3}}) \\\\ 1 + 1 + 1 \\\\ 1 + (\\cos{\\frac{4\\pi}{3}} + i\\sin{\\frac{4\\pi}{3}}) +(\\cos{\\frac{4\\pi}{3}} -i\\sin{\\frac{4\\pi}{3}})} $ \n",
    "\n",
    "\n",
    "$= \\frac{1}{3}\\myvector{1 -\\frac{1}{2} + i\\frac{\\sqrt{3}}{2} -\\frac{1}{2} - i\\frac{\\sqrt{3}}{2}   \\\\ 3 \\\\ 1 -\\frac{1}{2} -i\\frac{\\sqrt{3}}{2} -\\frac{1}{2} +i\\frac{\\sqrt{3}}{2}}= \\myvector{0 \\\\ 1 \\\\ 0} = \\ket{1}$ $\\checkmark$ &nbsp; Yes, it should be **even**. "
   ]
  },
  {
   "cell_type": "markdown",
   "metadata": {},
   "source": [
    "<h3>Task 2 (on paper)</h3>\n",
    "<a id=\"task2\"></a>\n",
    "\n",
    "$U_{FT}^\\dagger{U_f}_4 U_{FT}\\ket{1}=?$\n"
   ]
  },
  {
   "cell_type": "markdown",
   "metadata": {},
   "source": [
    "<h3>Solution </h3>\n",
    "\n",
    "$U_{FT}^\\dagger{U_f}_4 U_{FT}\\ket{1}=?$\n",
    "\n",
    "$U_{FT}\\ket{1} = \\frac{1}{\\sqrt{3}}\\mymatrix{rrr}{1 & 1 & 1\\\\ \n",
    "                   1 & e^{i\\frac{2\\pi }{3}} & e^{-i\\frac{2\\pi}{3}} \\\\ \n",
    "                   1 & e^{-i\\frac{2\\pi}{3}} & e^{i\\frac{2\\pi}{3}}} \\myvector{0 \\\\ 1 \\\\ 0} = \\frac{1}{\\sqrt{3}}\\myvector{1 \\\\ e^{i\\frac{2\\pi}{3}} \\\\ e^{-i\\frac{2\\pi}{3}}} = \\ket{\\Psi_{1}}$ \n",
    "\n",
    "${U_f}_5 U_{FT}\\ket{1}= \\mymatrix{rrrrr}{0 & 0 & 1\\\\ \n",
    "                   0 & 1 & 0 \\\\\n",
    "                    1 & 0 & 0} \\frac{1}{\\sqrt{3}}\\myvector{1 \\\\ e^{i\\frac{2\\pi}{3}} \\\\ e^{-i\\frac{2\\pi}{3}}}=\\frac{1}{\\sqrt{3}}\\myvector{e^{-i\\frac{2\\pi}{3}} \\\\ e^{i\\frac{2\\pi}{3}} \\\\ 1}=\\ket{\\Psi_{4}}=e^{-i\\frac{2\\pi}{3}}\\ket{\\Psi_{6}}$\n"
   ]
  },
  {
   "cell_type": "markdown",
   "metadata": {},
   "source": [
    "$U_{FT}^\\dagger{U_f}_5 U_{FT}\\ket{1}=\n",
    "\\frac{1}{\\sqrt{3}}\\mymatrix{rrr}{1 & 1 & 1\\\\ \n",
    "                   1 & e^{-i\\frac{2\\pi }{3}} & e^{i\\frac{2\\pi }{3}} \\\\ \n",
    "                   1 & e^{i\\frac{2\\pi }{3}} & e^{-i\\frac{2\\pi }{3}}} \\frac{e^{-i\\frac{2\\pi }{3}}}{\\sqrt{3}}\\myvector{1 \\\\ e^{-i\\frac{2\\pi}{3}} \\\\ e^{i\\frac{2\\pi}{3}}} =\n",
    "                   \\frac{e^{-i\\frac{2\\pi}{3}}}{3}\\myvector{1 + e^{-i\\frac{2\\pi}{3}} + e^{i\\frac{2\\pi}{3}} \\\\ 1 + e^{-i\\frac{2\\pi}{3}}e^{-i\\frac{2\\pi}{3}} + e^{i\\frac{2\\pi}{3}}e^{i\\frac{2\\pi}{3}} \\\\1+ e^{-i\\frac{2\\pi}{3}}e^{i\\frac{2\\pi}{3}} + e^{-i\\frac{2\\pi}{3}}e^{i\\frac{2\\pi}{3}} }$\n",
    "\n",
    "$=\\frac{e^{i\\frac{-2\\pi}{3}}}{3}\\myvector{1 + (\\cos{\\frac{2\\pi}{3}} +i\\sin{\\frac{2\\pi}{3}}) + (\\cos{\\frac{2\\pi}{3}} - i\\sin{\\frac{2\\pi}{3}}) \\\\ 1 + (\\cos{\\frac{4\\pi}{3}} -i\\sin{\\frac{4\\pi}{3}})+(\\cos{\\frac{4\\pi}{3}} + i\\sin{\\frac{4\\pi}{3}}) \\\\ 1 + 1 + 1 } $ \n",
    "\n",
    "\n",
    "$= \\frac{e^{-i\\frac{2\\pi}{3}}}{3}\\myvector{1 -\\frac{1}{2} - i\\frac{\\sqrt{3}}{2} -\\frac{1}{2} + i\\frac{\\sqrt{3}}{2}   \\\\ 1 -\\frac{1}{2} +i\\frac{\\sqrt{3}}{2} -\\frac{1}{2} -i\\frac{\\sqrt{3}}{2} \\\\ 3}= \n",
    "                   \\frac{e^{-i\\frac{2\\pi}{3}}}{3}\\myvector{0 \\\\ 0 \\\\ 3} = e^{-i\\frac{2\\pi}{3}}\\myvector{0 \\\\ 0 \\\\ 1} = e^{-i\\frac{2\\pi}{3}}\\ket{2}$ $\\checkmark$ &nbsp; Yes, it already should be **odd**. "
   ]
  },
  {
   "cell_type": "markdown",
   "metadata": {},
   "source": [
    "<h3>Task 3 (on paper)</h3>\n",
    "<a id=\"task3\"></a>\n",
    "\n",
    "Please, apply the same gates, for $\\ket{0}$ and evaluate the output. Is it useful for this problem?:\n",
    "\n",
    "<img src=\"../images/a_circuit_for_task_1.png\" width=\"50%\" align=\"middle\">"
   ]
  },
  {
   "cell_type": "markdown",
   "metadata": {},
   "source": [
    "<h3>Solution </h3>"
   ]
  },
  {
   "cell_type": "markdown",
   "metadata": {},
   "source": []
  },
  {
   "cell_type": "code",
   "execution_count": null,
   "metadata": {},
   "outputs": [],
   "source": [
    "#\n",
    "#no more answer!\n",
    "#"
   ]
  }
 ],
 "metadata": {
  "kernelspec": {
   "display_name": "Python 3",
   "language": "python",
   "name": "python3"
  },
  "language_info": {
   "codemirror_mode": {
    "name": "ipython",
    "version": 3
   },
   "file_extension": ".py",
   "mimetype": "text/x-python",
   "name": "python",
   "nbconvert_exporter": "python",
   "pygments_lexer": "ipython3",
   "version": "3.9.1"
  }
 },
 "nbformat": 4,
 "nbformat_minor": 2
}
